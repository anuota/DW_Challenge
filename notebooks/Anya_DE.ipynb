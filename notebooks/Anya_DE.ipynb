{
 "cells": [
  {
   "attachments": {},
   "cell_type": "markdown",
   "metadata": {},
   "source": [
    "# DeutscheWelle Data Engineering Challenge\n",
    "\n",
    "9.05.2023\n"
   ]
  },
  {
   "attachments": {},
   "cell_type": "markdown",
   "metadata": {},
   "source": [
    "# Task 1"
   ]
  },
  {
   "attachments": {},
   "cell_type": "markdown",
   "metadata": {},
   "source": [
    "## Connect via Gmail API\n",
    "\n"
   ]
  },
  {
   "cell_type": "code",
   "execution_count": null,
   "metadata": {},
   "outputs": [],
   "source": [
    "## Script that dowloads emails from gmail inbox\n",
    "\n",
    "## from https://developers.google.com/gmail/api/reference/rest/v1/users.messages.attachments/get \n",
    "# # Method to download email attachments from gmail api\n",
    "##\n",
    "# userId dwdechallenge@gmail.com / me (authenticated user)\n",
    "# messageId \n",
    "# id  2022-09-15-23-04-08-EDT-Historical-Report-ENTRFacebook-2022-06-16--2022-09-16.csv \n",
    "#GET https://gmail.googleapis.com/gmail/v1/users/{userId}/messages/{messageId}/attachments/{id}"
   ]
  },
  {
   "cell_type": "code",
   "execution_count": null,
   "metadata": {},
   "outputs": [],
   "source": [
    "from googleapiclient.discovery import build\n",
    "from google.oauth2.credentials import Credentials\n",
    "from googleapiclient.errors import HttpError\n",
    "import base64\n",
    "import os\n",
    "import time\n",
    "import sys \n",
    "\n",
    "# Import functions from source folder\n",
    "sys.path.append('../src/') \n",
    "from api_functions import *\n"
   ]
  },
  {
   "cell_type": "code",
   "execution_count": null,
   "metadata": {},
   "outputs": [],
   "source": [
    "# If modifying these scopes, delete the file token.json.\n",
    "SCOPES = ['https://www.googleapis.com/auth/gmail.readonly']\n",
    "creds = Credentials.from_authorized_user_file('../token.json', SCOPES)\n",
    "service = build('gmail', 'v1', credentials=creds)\n",
    "\n",
    "## search for emails with 'report' in the attachment name\n",
    "query_string='filename:report*csv' #find all the email with attachment in csv format containing 'report' in their name\n",
    "# other possible queries\n",
    "#query_string='report' # all email with report in subject/body text\n",
    "#query_string='has:attachment' # all email with attachments\n",
    "email_messages = search_email(service, query_string,['INBOX'])\n",
    "try:\n",
    "    path = os.path.join('../', 'data/downloaded')\n",
    "    os.mkdir(path)\n",
    "except OSError as error:\n",
    "    print(error) \n",
    "save_location='../data/downloaded'\n",
    "## download attachments for found emails \n",
    "\n",
    "for email_message in email_messages:\n",
    "    #print(email_message['id'])\n",
    "    #187ffb2fbf3c1bc5\n",
    "    messageDetail = get_message_detail(service,email_message['id'],msg_format='full',metadata_headers=['parts'])\n",
    "    #print(messageDetail)\n",
    "    messageDetailPayload = messageDetail.get('payload')\n",
    "\n",
    "    if 'parts' in messageDetailPayload:\n",
    "        for msgPayload in messageDetailPayload['parts']:\n",
    "            file_name = msgPayload['filename']\n",
    "            body=msgPayload['body']\n",
    "\n",
    "            if 'attachmentId' in body:\n",
    "                attachment_id = body['attachmentId']\n",
    "                attachment_content= get_file_data(service,email_message['id'],attachment_id,file_name,save_location)\n",
    "                print(file_name)\n",
    "                \n",
    "                #with open(os.path.join(save_location + '/' 'Downloaded_files' + '/' + file_name),'wb') as _f:\n",
    "                with open(os.path.join(save_location + '/' + file_name),'wb') as _f:\n",
    "                    _f.write(attachment_content)\n",
    "                    print(f'File {file_name} is saved at {save_location}')\n",
    "    time.sleep(0.5)\n",
    "    #break"
   ]
  },
  {
   "attachments": {},
   "cell_type": "markdown",
   "metadata": {},
   "source": [
    "## Read the data from the files and upload them to the postgres database."
   ]
  },
  {
   "cell_type": "code",
   "execution_count": 28,
   "metadata": {},
   "outputs": [],
   "source": [
    "import pandas as pd\n",
    "import psycopg2\n",
    "import os\n",
    "import glob\n",
    "import sys\n",
    "\n",
    "# Import functions from source folder\n",
    "sys.path.append('../src/') \n",
    "from postgres_functions import *"
   ]
  },
  {
   "cell_type": "code",
   "execution_count": 25,
   "metadata": {},
   "outputs": [
    {
     "data": {
      "text/plain": [
       "['../data/downloaded/2022-09-18-23-03-32-EDT-Historical-Report-ENTRFacebook-2022-06-19--2022-09-19.csv',\n",
       " '../data/downloaded/2022-09-16-23-04-01-EDT-Historical-Report-ENTRFacebook-2022-06-17--2022-09-17.csv',\n",
       " '../data/downloaded/2022-09-21-23-04-26-EDT-Historical-Report-ENTRFacebook-2022-06-22--2022-09-22.csv',\n",
       " '../data/downloaded/2022-09-17-23-04-42-EDT-Historical-Report-ENTRFacebook-2022-06-18--2022-09-18.csv',\n",
       " '../data/downloaded/2022-09-20-23-03-35-EDT-Historical-Report-ENTRFacebook-2022-06-21--2022-09-21.csv',\n",
       " '../data/downloaded/2022-09-15-23-04-08-EDT-Historical-Report-ENTRFacebook-2022-06-16--2022-09-16.csv',\n",
       " '../data/downloaded/2022-09-23-23-04-15-EDT-Historical-Report-ENTRFacebook-2022-06-24--2022-09-24.csv']"
      ]
     },
     "execution_count": 25,
     "metadata": {},
     "output_type": "execute_result"
    }
   ],
   "source": [
    "#downloaded report .csv files\n",
    "\n",
    "daily_repo_filepath='../data/downloaded/' # downloaded files via API\n",
    "files=glob.glob(os.path.join(daily_repo_filepath,\"*.csv\"))\n",
    "files"
   ]
  },
  {
   "cell_type": "code",
   "execution_count": null,
   "metadata": {},
   "outputs": [],
   "source": [
    "#check the data with pandas\n",
    "data = pd.read_csv(files[0])\n",
    "data.head()"
   ]
  },
  {
   "cell_type": "code",
   "execution_count": 26,
   "metadata": {},
   "outputs": [],
   "source": [
    "# connect to postgres database\n",
    "#parameters\n",
    "param_dic = {\n",
    "    \"host\"      : \"localhost\",\n",
    "    \"database\"  : \"postgres\",\n",
    "    \"user\"      : \"postgres\",\n",
    "}"
   ]
  },
  {
   "cell_type": "code",
   "execution_count": 29,
   "metadata": {},
   "outputs": [
    {
     "name": "stdout",
     "output_type": "stream",
     "text": [
      "Connecting to the PostgreSQL database...\n",
      "Connection successful\n",
      "Connecting to the PostgreSQL database...\n",
      "Connection successful\n",
      "Connecting to the PostgreSQL database...\n",
      "Connection successful\n",
      "Connecting to the PostgreSQL database...\n",
      "Connection successful\n",
      "Connecting to the PostgreSQL database...\n",
      "Connection successful\n",
      "Connecting to the PostgreSQL database...\n",
      "Connection successful\n",
      "Connecting to the PostgreSQL database...\n",
      "Connection successful\n",
      "Connecting to the PostgreSQL database...\n",
      "Connection successful\n",
      "Connecting to the PostgreSQL database...\n",
      "Connection successful\n"
     ]
    },
    {
     "data": {
      "text/plain": [
       "[None, None, None, None, None, None, None]"
      ]
     },
     "execution_count": 29,
     "metadata": {},
     "output_type": "execute_result"
    }
   ],
   "source": [
    "#create postgres database\n",
    "\n",
    "# column names from pandas dataframe csv file\n",
    "cols=','.join([column.replace(\" \", \"_\").replace(\"?\",\"\").lower() + str(' VARCHAR') for column in data.columns.values])\n",
    "\n",
    "#name of a new postgres database \n",
    "new_table='table103'\n",
    "\n",
    "#query=(\"DROP TABLE IF EXISTS %s;\"%(new_table))\n",
    "query=(\"CREATE TABLE IF NOT EXISTS %s(%s)\" %(new_table,(cols))) \n",
    "\n",
    "conn = connect(param_dic)\n",
    "execute_query(conn, query)\n",
    "#create_postgres(data,table)\n",
    "\n",
    "#name of the postgres database to upload data\n",
    "table=new_table\n",
    "\n",
    "#upload data from csv files to postreg database\n",
    "[upload_csv_to_postgres(table,files) for file in files]"
   ]
  },
  {
   "cell_type": "code",
   "execution_count": null,
   "metadata": {},
   "outputs": [],
   "source": [
    "conn = connect(param_dic)\n",
    "execute_query(conn, 'SELECT Page_Name User_Name FROM new_table')"
   ]
  },
  {
   "cell_type": "code",
   "execution_count": 30,
   "metadata": {},
   "outputs": [
    {
     "data": {
      "text/html": [
       "<div>\n",
       "<style scoped>\n",
       "    .dataframe tbody tr th:only-of-type {\n",
       "        vertical-align: middle;\n",
       "    }\n",
       "\n",
       "    .dataframe tbody tr th {\n",
       "        vertical-align: top;\n",
       "    }\n",
       "\n",
       "    .dataframe thead th {\n",
       "        text-align: right;\n",
       "    }\n",
       "</style>\n",
       "<table border=\"1\" class=\"dataframe\">\n",
       "  <thead>\n",
       "    <tr style=\"text-align: right;\">\n",
       "      <th></th>\n",
       "      <th>page_admin_top_country</th>\n",
       "      <th>video_share_status</th>\n",
       "      <th>total_views</th>\n",
       "      <th>video_length</th>\n",
       "    </tr>\n",
       "  </thead>\n",
       "  <tbody>\n",
       "    <tr>\n",
       "      <th>0</th>\n",
       "      <td>Page Admin Top Country</td>\n",
       "      <td>Video Share Status</td>\n",
       "      <td>Total Views</td>\n",
       "      <td>Video Length</td>\n",
       "    </tr>\n",
       "    <tr>\n",
       "      <th>1</th>\n",
       "      <td>PL</td>\n",
       "      <td>crosspost</td>\n",
       "      <td>14</td>\n",
       "      <td>00:04:30</td>\n",
       "    </tr>\n",
       "    <tr>\n",
       "      <th>2</th>\n",
       "      <td>DE</td>\n",
       "      <td>owned</td>\n",
       "      <td>599</td>\n",
       "      <td>00:01:13</td>\n",
       "    </tr>\n",
       "    <tr>\n",
       "      <th>3</th>\n",
       "      <td>DE</td>\n",
       "      <td>owned</td>\n",
       "      <td>1498</td>\n",
       "      <td>00:05:04</td>\n",
       "    </tr>\n",
       "    <tr>\n",
       "      <th>4</th>\n",
       "      <td>PL</td>\n",
       "      <td>crosspost</td>\n",
       "      <td>243</td>\n",
       "      <td>00:05:23</td>\n",
       "    </tr>\n",
       "    <tr>\n",
       "      <th>...</th>\n",
       "      <td>...</td>\n",
       "      <td>...</td>\n",
       "      <td>...</td>\n",
       "      <td>...</td>\n",
       "    </tr>\n",
       "    <tr>\n",
       "      <th>346894</th>\n",
       "      <td>PL</td>\n",
       "      <td>crosspost</td>\n",
       "      <td>1659</td>\n",
       "      <td>02:01:30</td>\n",
       "    </tr>\n",
       "    <tr>\n",
       "      <th>346895</th>\n",
       "      <td>PL</td>\n",
       "      <td>crosspost</td>\n",
       "      <td>1299</td>\n",
       "      <td>02:01:30</td>\n",
       "    </tr>\n",
       "    <tr>\n",
       "      <th>346896</th>\n",
       "      <td>FR</td>\n",
       "      <td>crosspost</td>\n",
       "      <td>1122</td>\n",
       "      <td>00:12:29</td>\n",
       "    </tr>\n",
       "    <tr>\n",
       "      <th>346897</th>\n",
       "      <td>PL</td>\n",
       "      <td>crosspost</td>\n",
       "      <td>1263</td>\n",
       "      <td>00:04:08</td>\n",
       "    </tr>\n",
       "    <tr>\n",
       "      <th>346898</th>\n",
       "      <td>DE</td>\n",
       "      <td>owned</td>\n",
       "      <td>4093</td>\n",
       "      <td>00:01:41</td>\n",
       "    </tr>\n",
       "  </tbody>\n",
       "</table>\n",
       "<p>346899 rows × 4 columns</p>\n",
       "</div>"
      ],
      "text/plain": [
       "        page_admin_top_country  video_share_status  total_views  video_length\n",
       "0       Page Admin Top Country  Video Share Status  Total Views  Video Length\n",
       "1                           PL           crosspost           14      00:04:30\n",
       "2                           DE               owned          599      00:01:13\n",
       "3                           DE               owned         1498      00:05:04\n",
       "4                           PL           crosspost          243      00:05:23\n",
       "...                        ...                 ...          ...           ...\n",
       "346894                      PL           crosspost         1659      02:01:30\n",
       "346895                      PL           crosspost         1299      02:01:30\n",
       "346896                      FR           crosspost         1122      00:12:29\n",
       "346897                      PL           crosspost         1263      00:04:08\n",
       "346898                      DE               owned         4093      00:01:41\n",
       "\n",
       "[346899 rows x 4 columns]"
      ]
     },
     "execution_count": 30,
     "metadata": {},
     "output_type": "execute_result"
    }
   ],
   "source": [
    "##SQL script to process the data and push the data to GIT\n",
    "## create tables \n",
    "path_preproc='/Users/anya/SCIENCE/DW_Challenge/data/processed/'\n",
    "video_table=pd.read_csv(path_preproc+'video_statistics_table.csv')\n",
    "video_table"
   ]
  },
  {
   "cell_type": "code",
   "execution_count": 54,
   "metadata": {},
   "outputs": [
    {
     "data": {
      "text/html": [
       "<div>\n",
       "<style scoped>\n",
       "    .dataframe tbody tr th:only-of-type {\n",
       "        vertical-align: middle;\n",
       "    }\n",
       "\n",
       "    .dataframe tbody tr th {\n",
       "        vertical-align: top;\n",
       "    }\n",
       "\n",
       "    .dataframe thead th {\n",
       "        text-align: right;\n",
       "    }\n",
       "</style>\n",
       "<table border=\"1\" class=\"dataframe\">\n",
       "  <thead>\n",
       "    <tr style=\"text-align: right;\">\n",
       "      <th></th>\n",
       "      <th>page_admin_top_country</th>\n",
       "      <th>video_share_status</th>\n",
       "      <th>total_views</th>\n",
       "      <th>video_length</th>\n",
       "    </tr>\n",
       "  </thead>\n",
       "  <tbody>\n",
       "    <tr>\n",
       "      <th>1</th>\n",
       "      <td>PL</td>\n",
       "      <td>crosspost</td>\n",
       "      <td>14</td>\n",
       "      <td>00:04:30</td>\n",
       "    </tr>\n",
       "    <tr>\n",
       "      <th>2</th>\n",
       "      <td>DE</td>\n",
       "      <td>owned</td>\n",
       "      <td>599</td>\n",
       "      <td>00:01:13</td>\n",
       "    </tr>\n",
       "    <tr>\n",
       "      <th>3</th>\n",
       "      <td>DE</td>\n",
       "      <td>owned</td>\n",
       "      <td>1498</td>\n",
       "      <td>00:05:04</td>\n",
       "    </tr>\n",
       "    <tr>\n",
       "      <th>4</th>\n",
       "      <td>PL</td>\n",
       "      <td>crosspost</td>\n",
       "      <td>243</td>\n",
       "      <td>00:05:23</td>\n",
       "    </tr>\n",
       "    <tr>\n",
       "      <th>6</th>\n",
       "      <td>PL</td>\n",
       "      <td>crosspost</td>\n",
       "      <td>7138</td>\n",
       "      <td>00:05:00</td>\n",
       "    </tr>\n",
       "  </tbody>\n",
       "</table>\n",
       "</div>"
      ],
      "text/plain": [
       "  page_admin_top_country video_share_status total_views video_length\n",
       "1                     PL          crosspost          14     00:04:30\n",
       "2                     DE              owned         599     00:01:13\n",
       "3                     DE              owned        1498     00:05:04\n",
       "4                     PL          crosspost         243     00:05:23\n",
       "6                     PL          crosspost        7138     00:05:00"
      ]
     },
     "execution_count": 54,
     "metadata": {},
     "output_type": "execute_result"
    }
   ],
   "source": [
    "video_table['video_share_status'].unique()\n",
    "\n",
    "#remove Video Share Status from the rows\n",
    "df = video_table.drop(video_table[video_table['video_share_status'] == 'Video Share Status'].index)\n",
    "#remove nan values from dataframe\n",
    "df_new = df.dropna(axis=0)\n",
    "\n",
    "df_new.head()"
   ]
  },
  {
   "cell_type": "code",
   "execution_count": 56,
   "metadata": {},
   "outputs": [
    {
     "name": "stdout",
     "output_type": "stream",
     "text": [
      "<class 'pandas.core.frame.DataFrame'>\n",
      "Index: 346850 entries, 1 to 346898\n",
      "Data columns (total 4 columns):\n",
      " #   Column                  Non-Null Count   Dtype \n",
      "---  ------                  --------------   ----- \n",
      " 0   page_admin_top_country  346850 non-null  object\n",
      " 1   video_share_status      342790 non-null  object\n",
      " 2   total_views             346850 non-null  object\n",
      " 3   video_length            342790 non-null  object\n",
      "dtypes: object(4)\n",
      "memory usage: 13.2+ MB\n"
     ]
    }
   ],
   "source": [
    "df.info()"
   ]
  },
  {
   "cell_type": "code",
   "execution_count": 57,
   "metadata": {},
   "outputs": [
    {
     "data": {
      "text/html": [
       "<div>\n",
       "<style scoped>\n",
       "    .dataframe tbody tr th:only-of-type {\n",
       "        vertical-align: middle;\n",
       "    }\n",
       "\n",
       "    .dataframe tbody tr th {\n",
       "        vertical-align: top;\n",
       "    }\n",
       "\n",
       "    .dataframe thead th {\n",
       "        text-align: right;\n",
       "    }\n",
       "</style>\n",
       "<table border=\"1\" class=\"dataframe\">\n",
       "  <thead>\n",
       "    <tr style=\"text-align: right;\">\n",
       "      <th></th>\n",
       "      <th>page_admin_top_country</th>\n",
       "      <th>video_share_status</th>\n",
       "      <th>total_views</th>\n",
       "      <th>video_length</th>\n",
       "    </tr>\n",
       "  </thead>\n",
       "  <tbody>\n",
       "    <tr>\n",
       "      <th>count</th>\n",
       "      <td>346850</td>\n",
       "      <td>342790</td>\n",
       "      <td>346850</td>\n",
       "      <td>342790</td>\n",
       "    </tr>\n",
       "    <tr>\n",
       "      <th>unique</th>\n",
       "      <td>5</td>\n",
       "      <td>3</td>\n",
       "      <td>8170</td>\n",
       "      <td>1000</td>\n",
       "    </tr>\n",
       "    <tr>\n",
       "      <th>top</th>\n",
       "      <td>DE</td>\n",
       "      <td>crosspost</td>\n",
       "      <td>0</td>\n",
       "      <td>00:00:59</td>\n",
       "    </tr>\n",
       "    <tr>\n",
       "      <th>freq</th>\n",
       "      <td>128597</td>\n",
       "      <td>184660</td>\n",
       "      <td>4158</td>\n",
       "      <td>6755</td>\n",
       "    </tr>\n",
       "  </tbody>\n",
       "</table>\n",
       "</div>"
      ],
      "text/plain": [
       "       page_admin_top_country video_share_status total_views video_length\n",
       "count                  346850             342790      346850       342790\n",
       "unique                      5                  3        8170         1000\n",
       "top                        DE          crosspost           0     00:00:59\n",
       "freq                   128597             184660        4158         6755"
      ]
     },
     "execution_count": 57,
     "metadata": {},
     "output_type": "execute_result"
    }
   ],
   "source": [
    "df.describe()"
   ]
  },
  {
   "cell_type": "code",
   "execution_count": 58,
   "metadata": {},
   "outputs": [
    {
     "data": {
      "text/plain": [
       "page_admin_top_country       0\n",
       "video_share_status        4060\n",
       "total_views                  0\n",
       "video_length              4060\n",
       "dtype: int64"
      ]
     },
     "execution_count": 58,
     "metadata": {},
     "output_type": "execute_result"
    }
   ],
   "source": [
    "df.isnull().sum()"
   ]
  },
  {
   "cell_type": "code",
   "execution_count": 59,
   "metadata": {},
   "outputs": [
    {
     "data": {
      "text/plain": [
       "page_admin_top_country\n",
       "DE    128597\n",
       "FR    111937\n",
       "PL     93205\n",
       "PT     12327\n",
       "RO       784\n",
       "Name: count, dtype: int64"
      ]
     },
     "execution_count": 59,
     "metadata": {},
     "output_type": "execute_result"
    }
   ],
   "source": [
    "df['page_admin_top_country'].value_counts()"
   ]
  },
  {
   "cell_type": "code",
   "execution_count": 55,
   "metadata": {},
   "outputs": [
    {
     "name": "stdout",
     "output_type": "stream",
     "text": [
      "['crosspost' 'owned' 'share']\n",
      "['PL' 'DE' 'RO' 'FR' 'PT']\n"
     ]
    }
   ],
   "source": [
    "print(df_new['video_share_status'].unique())\n",
    "print(df_new['page_admin_top_country'].unique())"
   ]
  },
  {
   "cell_type": "code",
   "execution_count": 64,
   "metadata": {},
   "outputs": [
    {
     "data": {
      "text/plain": [
       "<Axes: xlabel='page_admin_top_country', ylabel='count'>"
      ]
     },
     "execution_count": 64,
     "metadata": {},
     "output_type": "execute_result"
    },
    {
     "data": {
      "image/png": "[encoded data removed]",
      "text/plain": [
       "<Figure size 640x480 with 1 Axes>"
      ]
     },
     "metadata": {},
     "output_type": "display_data"
    }
   ],
   "source": [
    "import seaborn as sns\n",
    "# plot showing that most of the pages are created by admins from Germany\n",
    "sns.countplot(x=df_new['page_admin_top_country'])"
   ]
  },
  {
   "cell_type": "code",
   "execution_count": 65,
   "metadata": {},
   "outputs": [
    {
     "data": {
      "text/plain": [
       "<Axes: xlabel='video_share_status', ylabel='count'>"
      ]
     },
     "execution_count": 65,
     "metadata": {},
     "output_type": "execute_result"
    },
    {
     "data": {
      "image/png": "[encoded data removed]",
      "text/plain": [
       "<Figure size 640x480 with 1 Axes>"
      ]
     },
     "metadata": {},
     "output_type": "display_data"
    }
   ],
   "source": [
    "import seaborn as sns\n",
    "# page admins in Poland tend to crosspost video content\n",
    "# while french prefer to post their own video content\n",
    "# german admins crosspost and share their own video content in equal proportions\n",
    "# \n",
    "sns.countplot(hue=df_new['page_admin_top_country'],x=df_new['video_share_status'])"
   ]
  },
  {
   "cell_type": "code",
   "execution_count": 74,
   "metadata": {},
   "outputs": [
    {
     "ename": "AttributeError",
     "evalue": "'Series' object has no attribute 'description'",
     "output_type": "error",
     "traceback": [
      "\u001b[0;31m---------------------------------------------------------------------------\u001b[0m",
      "\u001b[0;31mAttributeError\u001b[0m                            Traceback (most recent call last)",
      "\u001b[0;32m/var/folders/9g/1hjl7qb93jx5v6xrj38t_s7r0000gn/T/ipykernel_26849/1805986746.py\u001b[0m in \u001b[0;36m?\u001b[0;34m()\u001b[0m\n\u001b[0;32m----> 1\u001b[0;31m \u001b[0mdf_new\u001b[0m\u001b[0;34m[\u001b[0m\u001b[0;34m'video_length'\u001b[0m\u001b[0;34m]\u001b[0m\u001b[0;34m.\u001b[0m\u001b[0mdescription\u001b[0m\u001b[0;34m(\u001b[0m\u001b[0;34m)\u001b[0m\u001b[0;34m\u001b[0m\u001b[0;34m\u001b[0m\u001b[0m\n\u001b[0m",
      "\u001b[0;32m~/SCIENCE/DW_Challenge/venvDE/lib/python3.10/site-packages/pandas/core/generic.py\u001b[0m in \u001b[0;36m?\u001b[0;34m(self, name)\u001b[0m\n\u001b[1;32m   5985\u001b[0m             \u001b[0;32mand\u001b[0m \u001b[0mname\u001b[0m \u001b[0;32mnot\u001b[0m \u001b[0;32min\u001b[0m \u001b[0mself\u001b[0m\u001b[0;34m.\u001b[0m\u001b[0m_accessors\u001b[0m\u001b[0;34m\u001b[0m\u001b[0;34m\u001b[0m\u001b[0m\n\u001b[1;32m   5986\u001b[0m             \u001b[0;32mand\u001b[0m \u001b[0mself\u001b[0m\u001b[0;34m.\u001b[0m\u001b[0m_info_axis\u001b[0m\u001b[0;34m.\u001b[0m\u001b[0m_can_hold_identifiers_and_holds_name\u001b[0m\u001b[0;34m(\u001b[0m\u001b[0mname\u001b[0m\u001b[0;34m)\u001b[0m\u001b[0;34m\u001b[0m\u001b[0;34m\u001b[0m\u001b[0m\n\u001b[1;32m   5987\u001b[0m         ):\n\u001b[1;32m   5988\u001b[0m             \u001b[0;32mreturn\u001b[0m \u001b[0mself\u001b[0m\u001b[0;34m[\u001b[0m\u001b[0mname\u001b[0m\u001b[0;34m]\u001b[0m\u001b[0;34m\u001b[0m\u001b[0;34m\u001b[0m\u001b[0m\n\u001b[0;32m-> 5989\u001b[0;31m         \u001b[0;32mreturn\u001b[0m \u001b[0mobject\u001b[0m\u001b[0;34m.\u001b[0m\u001b[0m__getattribute__\u001b[0m\u001b[0;34m(\u001b[0m\u001b[0mself\u001b[0m\u001b[0;34m,\u001b[0m \u001b[0mname\u001b[0m\u001b[0;34m)\u001b[0m\u001b[0;34m\u001b[0m\u001b[0;34m\u001b[0m\u001b[0m\n\u001b[0m",
      "\u001b[0;31mAttributeError\u001b[0m: 'Series' object has no attribute 'description'"
     ]
    }
   ],
   "source": [
    "df_new['video_length'].description()"
   ]
  },
  {
   "cell_type": "code",
   "execution_count": 72,
   "metadata": {},
   "outputs": [
    {
     "data": {
      "text/plain": [
       "<Axes: xlabel='total_views', ylabel='Count'>"
      ]
     },
     "execution_count": 72,
     "metadata": {},
     "output_type": "execute_result"
    },
    {
     "data": {
      "image/png": "[encoded data removed]",
      "text/plain": [
       "<Figure size 640x480 with 1 Axes>"
      ]
     },
     "metadata": {},
     "output_type": "display_data"
    }
   ],
   "source": [
    "sns.histplot(df_new['total_views'],bins=df_new['video_length'])"
   ]
  },
  {
   "cell_type": "code",
   "execution_count": null,
   "metadata": {},
   "outputs": [],
   "source": [
    "sns.scatterplot(data=df_new, x=df_new['total_views'],y=df_new['video_length'],hue=df_new['page_admin_top_country'])"
   ]
  },
  {
   "attachments": {},
   "cell_type": "markdown",
   "metadata": {},
   "source": [
    "# Task 2"
   ]
  },
  {
   "attachments": {},
   "cell_type": "markdown",
   "metadata": {},
   "source": [
    "#### Have a look at the dwh_dl_facebook_post_insights.csv. You will find there 3 rows for seperate posts. Import the csv to a database table"
   ]
  },
  {
   "cell_type": "code",
   "execution_count": null,
   "metadata": {},
   "outputs": [],
   "source": [
    "# reading in the csv file\n",
    "path_insights='/Users/anya/SCIENCE/DW_Challenge/data/external/Junior_DE_Task/'\n",
    "db_insights=pd.read_csv(path_insights+'dwh_dl_facebook_post_insights.csv')\n",
    "db_insights"
   ]
  },
  {
   "cell_type": "code",
   "execution_count": null,
   "metadata": {},
   "outputs": [],
   "source": [
    "# creating a new postgres database\n",
    "table='insights_draft'\n",
    "data=db_insights\n",
    "files_ins=glob.glob(os.path.join(path_insights,\"*.csv\"))\n",
    "#conn = connect(param_dic)\n",
    "create_postgres(data,table)\n",
    "# uploading data from csv file to the new database\n",
    "upload_csv_to_postgres(table,files_ins)"
   ]
  },
  {
   "cell_type": "code",
   "execution_count": null,
   "metadata": {},
   "outputs": [],
   "source": [
    "cols_ins=cols=','.join([column.replace(\" \", \"_\").replace(\"?\",\"\").lower() for column in data.columns.values])\n",
    "cols_ins"
   ]
  },
  {
   "cell_type": "code",
   "execution_count": null,
   "metadata": {},
   "outputs": [],
   "source": [
    "files_ins"
   ]
  },
  {
   "attachments": {},
   "cell_type": "markdown",
   "metadata": {},
   "source": [
    "### Please write a SQL script to unpack the json in column post_video_view_time_by_age_bucket_and_gender in a new table, while preserving the other columns."
   ]
  },
  {
   "cell_type": "code",
   "execution_count": null,
   "metadata": {},
   "outputs": [],
   "source": [
    "SELECT \n",
    "   id, \n",
    "   data::json->'name' as name,\n",
    "   data::json->'author' ->> 'last_name' as author\n",
    "FROM books;"
   ]
  },
  {
   "cell_type": "code",
   "execution_count": null,
   "metadata": {},
   "outputs": [],
   "source": [
    "conn = connect(param_dic)\n",
    "\n",
    "sel_column='post_video_view_time_by_age_bucket_and_gender'\n",
    "table='insights_draft'\n",
    "execute_query(conn,'SELECT %s FROM %s'%(sel_column,table))"
   ]
  },
  {
   "cell_type": "code",
   "execution_count": null,
   "metadata": {},
   "outputs": [],
   "source": [
    "execute_query(conn,'SELECT %s FROM %s'%(sel_column,table))"
   ]
  },
  {
   "cell_type": "code",
   "execution_count": null,
   "metadata": {},
   "outputs": [],
   "source": [
    "execute_query(conn, \"SELECT %s  FROM %s, data::jsons->'U.18-24' as U.18-24, data::jsons->'U.25-34' as U.25-34\"%(sel_column,table))"
   ]
  },
  {
   "cell_type": "code",
   "execution_count": null,
   "metadata": {},
   "outputs": [],
   "source": [
    "execute_query(conn,'SELECT %s FROM %s, json_each(%s)'%(sel_column,table,sel_column))"
   ]
  },
  {
   "cell_type": "code",
   "execution_count": null,
   "metadata": {},
   "outputs": [],
   "source": [
    "print(sel_column)\n",
    "conn = connect(param_dic)\n",
    "execute_query(conn, \"SELECT %s json_data -> '%s' %s, FROM %s;\" %(sel_column,sel_column,'foo',table))"
   ]
  },
  {
   "cell_type": "code",
   "execution_count": null,
   "metadata": {},
   "outputs": [],
   "source": [
    "table"
   ]
  },
  {
   "cell_type": "code",
   "execution_count": null,
   "metadata": {},
   "outputs": [],
   "source": [
    "conn = psycopg2.connect(\"host=localhost dbname=postgres user=postgres\")\n",
    "cur = conn.cursor()\n",
    "cur.execute(\"\"\"\n",
    "    SELECT json_data \n",
    "        post_video_view_time_by_age_bucket_and_gender -> \"U.18-24\" as U1\n",
    "    FROM insights_draft;\n",
    "    \"\"\")\n",
    "conn.commit()\n",
    "conn.close()"
   ]
  },
  {
   "cell_type": "code",
   "execution_count": null,
   "metadata": {},
   "outputs": [],
   "source": [
    "conn = psycopg2.connect(\"host=localhost dbname=postgres user=postgres\")\n",
    "cur = conn.cursor()\n",
    "cur.execute(\"\"\"\n",
    "    SELECT (post_video_view_time_by_age_bucket_and_gender) from insights_draft;\n",
    "    \"\"\")\n",
    "conn.commit()\n",
    "conn.close()"
   ]
  },
  {
   "cell_type": "code",
   "execution_count": null,
   "metadata": {},
   "outputs": [],
   "source": [
    "execute_query(conn,'select jsonb_object_keys(%s) from %s;'%(sel_column,table))"
   ]
  },
  {
   "cell_type": "code",
   "execution_count": null,
   "metadata": {},
   "outputs": [],
   "source": [
    "table"
   ]
  },
  {
   "cell_type": "code",
   "execution_count": null,
   "metadata": {},
   "outputs": [],
   "source": [
    "print(sel_column)\n",
    "conn = connect(param_dic)\n",
    "execute_query(conn, \"SELECT %s -> 'U.18-24' AS U1 FROM %s\" %(sel_column,table))\n",
    "\n",
    "#SELECT post_video_view_time_by_age_bucket_and_gender FROM insights_draft;\n",
    "\n",
    "#SELECT post_video_view_time_by_age_bucket_and_gender json_data ->> 'U.18-24' AS U1 FROM insights_draft; "
   ]
  },
  {
   "cell_type": "code",
   "execution_count": null,
   "metadata": {},
   "outputs": [],
   "source": [
    "execute_query(conn,\"select \n",
    "    json_data #> \n",
    "       '{pizzas,1,additionalToppings}'  \n",
    "        as additional_toppings_2nd_pizza\n",
    "from test;\")"
   ]
  },
  {
   "attachments": {},
   "cell_type": "markdown",
   "metadata": {},
   "source": [
    "### Write a script for the sums per post for each gender. Additionally create the sum for age 18-34 of all genders."
   ]
  },
  {
   "cell_type": "code",
   "execution_count": null,
   "metadata": {},
   "outputs": [],
   "source": [
    "# SELECT SUM(Quantity) FROM OrderDetails;\n",
    "# add where statement WHERE Country='Mexico' WHERE Country='Mexico'\n",
    "# SELECT * FROM Products WHERE Price BETWEEN 50 AND 60;"
   ]
  }
 ],
 "metadata": {
  "kernelspec": {
   "display_name": "venvDE",
   "language": "python",
   "name": "python3"
  },
  "language_info": {
   "codemirror_mode": {
    "name": "ipython",
    "version": 3
   },
   "file_extension": ".py",
   "mimetype": "text/x-python",
   "name": "python",
   "nbconvert_exporter": "python",
   "pygments_lexer": "ipython3",
   "version": "3.10.9"
  },
  "orig_nbformat": 4
 },
 "nbformat": 4,
 "nbformat_minor": 2
}
