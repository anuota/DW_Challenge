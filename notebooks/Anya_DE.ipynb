{
 "cells": [
  {
   "attachments": {},
   "cell_type": "markdown",
   "metadata": {},
   "source": [
    "# DeutscheWelle Data Engineering Challenge\n",
    "\n",
    "9.05.2023\n"
   ]
  },
  {
   "attachments": {},
   "cell_type": "markdown",
   "metadata": {},
   "source": [
    "# Task 1"
   ]
  },
  {
   "attachments": {},
   "cell_type": "markdown",
   "metadata": {},
   "source": [
    "## Connect via Gmail API\n",
    "\n"
   ]
  },
  {
   "cell_type": "code",
   "execution_count": null,
   "metadata": {},
   "outputs": [],
   "source": [
    "## Script that dowloads emails from gmail inbox\n",
    "\n",
    "## from https://developers.google.com/gmail/api/reference/rest/v1/users.messages.attachments/get \n",
    "# # Method to download email attachments from gmail api\n",
    "##\n",
    "# userId dwdechallenge@gmail.com / me (authenticated user)\n",
    "# messageId \n",
    "# id  2022-09-15-23-04-08-EDT-Historical-Report-ENTRFacebook-2022-06-16--2022-09-16.csv \n",
    "#GET https://gmail.googleapis.com/gmail/v1/users/{userId}/messages/{messageId}/attachments/{id}"
   ]
  },
  {
   "cell_type": "code",
   "execution_count": 1,
   "metadata": {},
   "outputs": [],
   "source": [
    "from googleapiclient.discovery import build\n",
    "from google.oauth2.credentials import Credentials\n",
    "from googleapiclient.errors import HttpError\n",
    "import base64\n",
    "import os\n",
    "import time\n",
    "import sys \n",
    "\n",
    "# Import functions from source folder\n",
    "sys.path.append('../src/') \n",
    "from api_functions import *\n"
   ]
  },
  {
   "cell_type": "code",
   "execution_count": 2,
   "metadata": {},
   "outputs": [
    {
     "name": "stdout",
     "output_type": "stream",
     "text": [
      "[Errno 17] File exists: '../data/downloaded'\n",
      "2022-09-15-23-04-08-EDT-Historical-Report-ENTRFacebook-2022-06-16--2022-09-16.csv\n",
      "File 2022-09-15-23-04-08-EDT-Historical-Report-ENTRFacebook-2022-06-16--2022-09-16.csv is saved at ../data/downloaded\n",
      "2022-09-16-23-04-01-EDT-Historical-Report-ENTRFacebook-2022-06-17--2022-09-17.csv\n",
      "File 2022-09-16-23-04-01-EDT-Historical-Report-ENTRFacebook-2022-06-17--2022-09-17.csv is saved at ../data/downloaded\n",
      "2022-09-17-23-04-42-EDT-Historical-Report-ENTRFacebook-2022-06-18--2022-09-18.csv\n",
      "File 2022-09-17-23-04-42-EDT-Historical-Report-ENTRFacebook-2022-06-18--2022-09-18.csv is saved at ../data/downloaded\n",
      "2022-09-18-23-03-32-EDT-Historical-Report-ENTRFacebook-2022-06-19--2022-09-19.csv\n",
      "File 2022-09-18-23-03-32-EDT-Historical-Report-ENTRFacebook-2022-06-19--2022-09-19.csv is saved at ../data/downloaded\n",
      "2022-09-20-23-03-35-EDT-Historical-Report-ENTRFacebook-2022-06-21--2022-09-21.csv\n",
      "File 2022-09-20-23-03-35-EDT-Historical-Report-ENTRFacebook-2022-06-21--2022-09-21.csv is saved at ../data/downloaded\n",
      "2022-09-21-23-04-26-EDT-Historical-Report-ENTRFacebook-2022-06-22--2022-09-22.csv\n",
      "File 2022-09-21-23-04-26-EDT-Historical-Report-ENTRFacebook-2022-06-22--2022-09-22.csv is saved at ../data/downloaded\n",
      "2022-09-23-23-04-15-EDT-Historical-Report-ENTRFacebook-2022-06-24--2022-09-24.csv\n",
      "File 2022-09-23-23-04-15-EDT-Historical-Report-ENTRFacebook-2022-06-24--2022-09-24.csv is saved at ../data/downloaded\n"
     ]
    }
   ],
   "source": [
    "# If modifying these scopes, delete the file token.json.\n",
    "SCOPES = ['https://www.googleapis.com/auth/gmail.readonly']\n",
    "creds = Credentials.from_authorized_user_file('../token.json', SCOPES)\n",
    "service = build('gmail', 'v1', credentials=creds)\n",
    "\n",
    "## search for emails with 'report' in the attachment name\n",
    "query_string='filename:report*csv' #find all the email with attachment in csv format containing 'report' in their name\n",
    "# other possible queries\n",
    "#query_string='report' # all email with report in subject/body text\n",
    "#query_string='has:attachment' # all email with attachments\n",
    "email_messages = search_email(service, query_string,['INBOX'])\n",
    "try:\n",
    "    path = os.path.join('../', 'data/downloaded')\n",
    "    os.mkdir(path)\n",
    "except OSError as error:\n",
    "    print(error) \n",
    "save_location='../data/downloaded'\n",
    "## download attachments for found emails \n",
    "\n",
    "for email_message in email_messages:\n",
    "    #print(email_message['id'])\n",
    "    #187ffb2fbf3c1bc5\n",
    "    messageDetail = get_message_detail(service,email_message['id'],msg_format='full',metadata_headers=['parts'])\n",
    "    #print(messageDetail)\n",
    "    messageDetailPayload = messageDetail.get('payload')\n",
    "\n",
    "    if 'parts' in messageDetailPayload:\n",
    "        for msgPayload in messageDetailPayload['parts']:\n",
    "            file_name = msgPayload['filename']\n",
    "            body=msgPayload['body']\n",
    "\n",
    "            if 'attachmentId' in body:\n",
    "                attachment_id = body['attachmentId']\n",
    "                attachment_content= get_file_data(service,email_message['id'],attachment_id,file_name,save_location)\n",
    "                print(file_name)\n",
    "                \n",
    "                #with open(os.path.join(save_location + '/' 'Downloaded_files' + '/' + file_name),'wb') as _f:\n",
    "                with open(os.path.join(save_location + '/' + file_name),'wb') as _f:\n",
    "                    _f.write(attachment_content)\n",
    "                    print(f'File {file_name} is saved at {save_location}')\n",
    "    time.sleep(0.5)\n",
    "    #break"
   ]
  },
  {
   "attachments": {},
   "cell_type": "markdown",
   "metadata": {},
   "source": [
    "## Read the data from the files and upload them to the postgres database."
   ]
  },
  {
   "cell_type": "code",
   "execution_count": 2,
   "metadata": {},
   "outputs": [],
   "source": [
    "import pandas as pd\n",
    "import psycopg2\n",
    "import os\n",
    "import glob\n",
    "import sys\n",
    "\n",
    "# Import functions from source folder\n",
    "sys.path.append('../src/') \n",
    "from postgres_functions import *"
   ]
  },
  {
   "cell_type": "code",
   "execution_count": 3,
   "metadata": {},
   "outputs": [
    {
     "data": {
      "text/plain": [
       "['../data/downloaded/2022-09-18-23-03-32-EDT-Historical-Report-ENTRFacebook-2022-06-19--2022-09-19.csv',\n",
       " '../data/downloaded/2022-09-16-23-04-01-EDT-Historical-Report-ENTRFacebook-2022-06-17--2022-09-17.csv',\n",
       " '../data/downloaded/2022-09-21-23-04-26-EDT-Historical-Report-ENTRFacebook-2022-06-22--2022-09-22.csv',\n",
       " '../data/downloaded/2022-09-17-23-04-42-EDT-Historical-Report-ENTRFacebook-2022-06-18--2022-09-18.csv',\n",
       " '../data/downloaded/2022-09-20-23-03-35-EDT-Historical-Report-ENTRFacebook-2022-06-21--2022-09-21.csv',\n",
       " '../data/downloaded/2022-09-15-23-04-08-EDT-Historical-Report-ENTRFacebook-2022-06-16--2022-09-16.csv',\n",
       " '../data/downloaded/2022-09-23-23-04-15-EDT-Historical-Report-ENTRFacebook-2022-06-24--2022-09-24.csv']"
      ]
     },
     "execution_count": 3,
     "metadata": {},
     "output_type": "execute_result"
    }
   ],
   "source": [
    "#downloaded report .csv files\n",
    "\n",
    "daily_repo_filepath='../data/downloaded/' # downloaded files via API\n",
    "files=glob.glob(os.path.join(daily_repo_filepath,\"*.csv\"))\n",
    "files"
   ]
  },
  {
   "cell_type": "code",
   "execution_count": 4,
   "metadata": {},
   "outputs": [
    {
     "data": {
      "text/html": [
       "<div>\n",
       "<style scoped>\n",
       "    .dataframe tbody tr th:only-of-type {\n",
       "        vertical-align: middle;\n",
       "    }\n",
       "\n",
       "    .dataframe tbody tr th {\n",
       "        vertical-align: top;\n",
       "    }\n",
       "\n",
       "    .dataframe thead th {\n",
       "        text-align: right;\n",
       "    }\n",
       "</style>\n",
       "<table border=\"1\" class=\"dataframe\">\n",
       "  <thead>\n",
       "    <tr style=\"text-align: right;\">\n",
       "      <th></th>\n",
       "      <th>Page Name</th>\n",
       "      <th>User Name</th>\n",
       "      <th>Facebook Id</th>\n",
       "      <th>Page Category</th>\n",
       "      <th>Page Admin Top Country</th>\n",
       "      <th>Page Description</th>\n",
       "      <th>Page Created</th>\n",
       "      <th>Likes at Posting</th>\n",
       "      <th>Followers at Posting</th>\n",
       "      <th>Post Created</th>\n",
       "      <th>...</th>\n",
       "      <th>Message</th>\n",
       "      <th>Link</th>\n",
       "      <th>Final Link</th>\n",
       "      <th>Image Text</th>\n",
       "      <th>Link Text</th>\n",
       "      <th>Description</th>\n",
       "      <th>Sponsor Id</th>\n",
       "      <th>Sponsor Name</th>\n",
       "      <th>Sponsor Category</th>\n",
       "      <th>Overperforming Score</th>\n",
       "    </tr>\n",
       "  </thead>\n",
       "  <tbody>\n",
       "    <tr>\n",
       "      <th>0</th>\n",
       "      <td>Onet Styl Życia</td>\n",
       "      <td>onetstylzycia</td>\n",
       "      <td>372341662829366</td>\n",
       "      <td>NEWS_SITE</td>\n",
       "      <td>PL</td>\n",
       "      <td>Najbardziej stylowy serwis w Polsce!</td>\n",
       "      <td>2012-06-05 16:57:21</td>\n",
       "      <td>558890</td>\n",
       "      <td>563792</td>\n",
       "      <td>2022-09-18 21:00:26 EDT</td>\n",
       "      <td>...</td>\n",
       "      <td>Wyrwał: w rękach Rosjan jest ok. 17 proc. tery...</td>\n",
       "      <td>https://www.facebook.com/onetstylzycia/videos/...</td>\n",
       "      <td>NaN</td>\n",
       "      <td>NaN</td>\n",
       "      <td>\"To jest przełom w wojnie w Ukrainie, zdobywam...</td>\n",
       "      <td>NaN</td>\n",
       "      <td>NaN</td>\n",
       "      <td>NaN</td>\n",
       "      <td>NaN</td>\n",
       "      <td>-0.89</td>\n",
       "    </tr>\n",
       "    <tr>\n",
       "      <th>1</th>\n",
       "      <td>DW News</td>\n",
       "      <td>deutschewellenews</td>\n",
       "      <td>100064359716848</td>\n",
       "      <td>NEWS_SITE</td>\n",
       "      <td>DE</td>\n",
       "      <td>Follow us for trustworthy news and analysis fr...</td>\n",
       "      <td>2008-08-26 12:26:42</td>\n",
       "      <td>2664421</td>\n",
       "      <td>3150873</td>\n",
       "      <td>2022-09-18 20:12:16 EDT</td>\n",
       "      <td>...</td>\n",
       "      <td>Every year 400 million tonnes of plastic are p...</td>\n",
       "      <td>https://www.facebook.com/deutschewellenews/vid...</td>\n",
       "      <td>NaN</td>\n",
       "      <td>NaN</td>\n",
       "      <td>Highlighting the plastic waste problem</td>\n",
       "      <td>NaN</td>\n",
       "      <td>NaN</td>\n",
       "      <td>NaN</td>\n",
       "      <td>NaN</td>\n",
       "      <td>-3.29</td>\n",
       "    </tr>\n",
       "    <tr>\n",
       "      <th>2</th>\n",
       "      <td>DW Euromaxx</td>\n",
       "      <td>dw.euromaxx</td>\n",
       "      <td>211745678846355</td>\n",
       "      <td>BROADCASTING_MEDIA_PRODUCTION</td>\n",
       "      <td>DE</td>\n",
       "      <td>Euromaxx is made for those who love European #...</td>\n",
       "      <td>2011-05-17 14:08:01</td>\n",
       "      <td>501640</td>\n",
       "      <td>756194</td>\n",
       "      <td>2022-09-18 19:15:16 EDT</td>\n",
       "      <td>...</td>\n",
       "      <td>🥚🥔 In Spain, they're eaten for breakfast, lunc...</td>\n",
       "      <td>https://www.facebook.com/dw.euromaxx/videos/47...</td>\n",
       "      <td>NaN</td>\n",
       "      <td>NaN</td>\n",
       "      <td>The Secrets Behind the Traditional Spanish Tor...</td>\n",
       "      <td>NaN</td>\n",
       "      <td>NaN</td>\n",
       "      <td>NaN</td>\n",
       "      <td>NaN</td>\n",
       "      <td>1.01</td>\n",
       "    </tr>\n",
       "    <tr>\n",
       "      <th>3</th>\n",
       "      <td>Onet Wiadomości</td>\n",
       "      <td>OnetWiadomosci</td>\n",
       "      <td>56024223012</td>\n",
       "      <td>NEWS_SITE</td>\n",
       "      <td>PL</td>\n",
       "      <td>Jeśli macie jakieś uwagi, chcecie pokazać, jak...</td>\n",
       "      <td>2009-01-13 10:54:16</td>\n",
       "      <td>533859</td>\n",
       "      <td>625613</td>\n",
       "      <td>2022-09-18 19:00:20 EDT</td>\n",
       "      <td>...</td>\n",
       "      <td>\"Staram się, aby to nie była zwykła relacja z ...</td>\n",
       "      <td>https://www.facebook.com/OnetWiadomosci/videos...</td>\n",
       "      <td>NaN</td>\n",
       "      <td>NaN</td>\n",
       "      <td>\"Robię filmiki komediowe, podróżnicze, ciekawo...</td>\n",
       "      <td>NaN</td>\n",
       "      <td>NaN</td>\n",
       "      <td>NaN</td>\n",
       "      <td>NaN</td>\n",
       "      <td>-5.17</td>\n",
       "    </tr>\n",
       "    <tr>\n",
       "      <th>4</th>\n",
       "      <td>Konbini news</td>\n",
       "      <td>konbininews</td>\n",
       "      <td>183081005507412</td>\n",
       "      <td>MEDIA_NEWS_COMPANY</td>\n",
       "      <td>FR</td>\n",
       "      <td>Society &amp; Politics by Konbini</td>\n",
       "      <td>2017-01-30 10:03:14</td>\n",
       "      <td>722701</td>\n",
       "      <td>1546605</td>\n",
       "      <td>2022-09-18 16:05:01 EDT</td>\n",
       "      <td>...</td>\n",
       "      <td>Algorithme, limites entre vie pro et perso, me...</td>\n",
       "      <td>https://buff.ly/3BHd46t</td>\n",
       "      <td>https://www.konbini.com/videos/enjoyphoenix-de...</td>\n",
       "      <td>NaN</td>\n",
       "      <td>EnjoyPhoenix dévoile les réalités du métier de...</td>\n",
       "      <td>Algorithme, limites entre vie pro et perso, me...</td>\n",
       "      <td>NaN</td>\n",
       "      <td>NaN</td>\n",
       "      <td>NaN</td>\n",
       "      <td>-4.72</td>\n",
       "    </tr>\n",
       "  </tbody>\n",
       "</table>\n",
       "<p>5 rows × 40 columns</p>\n",
       "</div>"
      ],
      "text/plain": [
       "         Page Name          User Name      Facebook Id   \n",
       "0  Onet Styl Życia      onetstylzycia  372341662829366  \\\n",
       "1          DW News  deutschewellenews  100064359716848   \n",
       "2      DW Euromaxx        dw.euromaxx  211745678846355   \n",
       "3  Onet Wiadomości     OnetWiadomosci      56024223012   \n",
       "4     Konbini news        konbininews  183081005507412   \n",
       "\n",
       "                   Page Category Page Admin Top Country   \n",
       "0                      NEWS_SITE                     PL  \\\n",
       "1                      NEWS_SITE                     DE   \n",
       "2  BROADCASTING_MEDIA_PRODUCTION                     DE   \n",
       "3                      NEWS_SITE                     PL   \n",
       "4             MEDIA_NEWS_COMPANY                     FR   \n",
       "\n",
       "                                    Page Description         Page Created   \n",
       "0               Najbardziej stylowy serwis w Polsce!  2012-06-05 16:57:21  \\\n",
       "1  Follow us for trustworthy news and analysis fr...  2008-08-26 12:26:42   \n",
       "2  Euromaxx is made for those who love European #...  2011-05-17 14:08:01   \n",
       "3  Jeśli macie jakieś uwagi, chcecie pokazać, jak...  2009-01-13 10:54:16   \n",
       "4                      Society & Politics by Konbini  2017-01-30 10:03:14   \n",
       "\n",
       "   Likes at Posting  Followers at Posting             Post Created  ...   \n",
       "0            558890                563792  2022-09-18 21:00:26 EDT  ...  \\\n",
       "1           2664421               3150873  2022-09-18 20:12:16 EDT  ...   \n",
       "2            501640                756194  2022-09-18 19:15:16 EDT  ...   \n",
       "3            533859                625613  2022-09-18 19:00:20 EDT  ...   \n",
       "4            722701               1546605  2022-09-18 16:05:01 EDT  ...   \n",
       "\n",
       "                                             Message   \n",
       "0  Wyrwał: w rękach Rosjan jest ok. 17 proc. tery...  \\\n",
       "1  Every year 400 million tonnes of plastic are p...   \n",
       "2  🥚🥔 In Spain, they're eaten for breakfast, lunc...   \n",
       "3  \"Staram się, aby to nie była zwykła relacja z ...   \n",
       "4  Algorithme, limites entre vie pro et perso, me...   \n",
       "\n",
       "                                                Link   \n",
       "0  https://www.facebook.com/onetstylzycia/videos/...  \\\n",
       "1  https://www.facebook.com/deutschewellenews/vid...   \n",
       "2  https://www.facebook.com/dw.euromaxx/videos/47...   \n",
       "3  https://www.facebook.com/OnetWiadomosci/videos...   \n",
       "4                            https://buff.ly/3BHd46t   \n",
       "\n",
       "                                          Final Link Image Text   \n",
       "0                                                NaN        NaN  \\\n",
       "1                                                NaN        NaN   \n",
       "2                                                NaN        NaN   \n",
       "3                                                NaN        NaN   \n",
       "4  https://www.konbini.com/videos/enjoyphoenix-de...        NaN   \n",
       "\n",
       "                                           Link Text   \n",
       "0  \"To jest przełom w wojnie w Ukrainie, zdobywam...  \\\n",
       "1             Highlighting the plastic waste problem   \n",
       "2  The Secrets Behind the Traditional Spanish Tor...   \n",
       "3  \"Robię filmiki komediowe, podróżnicze, ciekawo...   \n",
       "4  EnjoyPhoenix dévoile les réalités du métier de...   \n",
       "\n",
       "                                         Description  Sponsor Id   \n",
       "0                                                NaN         NaN  \\\n",
       "1                                                NaN         NaN   \n",
       "2                                                NaN         NaN   \n",
       "3                                                NaN         NaN   \n",
       "4  Algorithme, limites entre vie pro et perso, me...         NaN   \n",
       "\n",
       "   Sponsor Name  Sponsor Category  Overperforming Score   \n",
       "0           NaN               NaN                  -0.89  \n",
       "1           NaN               NaN                  -3.29  \n",
       "2           NaN               NaN                   1.01  \n",
       "3           NaN               NaN                  -5.17  \n",
       "4           NaN               NaN                  -4.72  \n",
       "\n",
       "[5 rows x 40 columns]"
      ]
     },
     "execution_count": 4,
     "metadata": {},
     "output_type": "execute_result"
    }
   ],
   "source": [
    "#check the data with pandas\n",
    "data = pd.read_csv(files[0])\n",
    "data.head()"
   ]
  },
  {
   "cell_type": "code",
   "execution_count": null,
   "metadata": {},
   "outputs": [],
   "source": [
    "# connect to postgres database\n",
    "#parameters\n",
    "param_dic = {\n",
    "    \"host\"      : \"localhost\",\n",
    "    \"database\"  : \"postgres\",\n",
    "    \"user\"      : \"postgres\",\n",
    "}"
   ]
  },
  {
   "cell_type": "code",
   "execution_count": 6,
   "metadata": {},
   "outputs": [
    {
     "name": "stdout",
     "output_type": "stream",
     "text": [
      "Connecting to the PostgreSQL database...\n",
      "Connection successful\n",
      "Connecting to the PostgreSQL database...\n",
      "Connection successful\n",
      "Connecting to the PostgreSQL database...\n",
      "Connection successful\n",
      "Connecting to the PostgreSQL database...\n",
      "Connection successful\n",
      "Connecting to the PostgreSQL database...\n",
      "Connection successful\n",
      "Connecting to the PostgreSQL database...\n",
      "Connection successful\n",
      "Connecting to the PostgreSQL database...\n",
      "Connection successful\n",
      "Connecting to the PostgreSQL database...\n",
      "Connection successful\n",
      "Connecting to the PostgreSQL database...\n",
      "Connection successful\n"
     ]
    },
    {
     "data": {
      "text/plain": [
       "[None, None, None, None, None, None, None]"
      ]
     },
     "execution_count": 6,
     "metadata": {},
     "output_type": "execute_result"
    }
   ],
   "source": [
    "#create postgres database\n",
    "\n",
    "# column names from pandas dataframe csv file\n",
    "cols=','.join([column.replace(\" \", \"_\").replace(\"?\",\"\").lower() + str(' VARCHAR') for column in data.columns.values])\n",
    "\n",
    "#name of a new postgres database \n",
    "new_table='table101'\n",
    "\n",
    "#query=(\"DROP TABLE IF EXISTS %s;\"%(new_table))\n",
    "query=(\"CREATE TABLE IF NOT EXISTS %s(%s)\" %(new_table,(cols))) \n",
    "\n",
    "conn = connect(param_dic)\n",
    "execute_query(conn, query)\n",
    "#create_postgres(data,table)\n",
    "\n",
    "#name of the postgres database to upload data\n",
    "table=new_table\n",
    "\n",
    "#upload data from csv files to postreg database\n",
    "[upload_csv_to_postgres(table,files) for file in files]"
   ]
  },
  {
   "cell_type": "code",
   "execution_count": null,
   "metadata": {},
   "outputs": [],
   "source": [
    "conn = connect(param_dic)\n",
    "execute_query(conn, 'SELECT Page_Name User_Name FROM new_table')"
   ]
  },
  {
   "cell_type": "code",
   "execution_count": null,
   "metadata": {},
   "outputs": [],
   "source": [
    "##SQL script to process the data and push the data to GIT\n",
    "## create tables \n"
   ]
  },
  {
   "attachments": {},
   "cell_type": "markdown",
   "metadata": {},
   "source": [
    "# Task 2"
   ]
  },
  {
   "attachments": {},
   "cell_type": "markdown",
   "metadata": {},
   "source": [
    "#### Have a look at the dwh_dl_facebook_post_insights.csv. You will find there 3 rows for seperate posts. Import the csv to a database table"
   ]
  },
  {
   "cell_type": "code",
   "execution_count": 7,
   "metadata": {},
   "outputs": [],
   "source": [
    "path_insights='/Users/anya/SCIENCE/DW_Challenge/data/external/Junior_DE_Task/'\n",
    "db_insights=pd.read_csv(path_insights+'dwh_dl_facebook_post_insights.csv')"
   ]
  },
  {
   "cell_type": "code",
   "execution_count": 8,
   "metadata": {},
   "outputs": [
    {
     "data": {
      "text/html": [
       "<div>\n",
       "<style scoped>\n",
       "    .dataframe tbody tr th:only-of-type {\n",
       "        vertical-align: middle;\n",
       "    }\n",
       "\n",
       "    .dataframe tbody tr th {\n",
       "        vertical-align: top;\n",
       "    }\n",
       "\n",
       "    .dataframe thead th {\n",
       "        text-align: right;\n",
       "    }\n",
       "</style>\n",
       "<table border=\"1\" class=\"dataframe\">\n",
       "  <thead>\n",
       "    <tr style=\"text-align: right;\">\n",
       "      <th></th>\n",
       "      <th>insights_created_date</th>\n",
       "      <th>post_activity</th>\n",
       "      <th>post_activity_by_action_type</th>\n",
       "      <th>post_activity_by_action_type_unique</th>\n",
       "      <th>post_activity_unique</th>\n",
       "      <th>post_clicks</th>\n",
       "      <th>post_clicks_by_type</th>\n",
       "      <th>post_clicks_by_type_unique</th>\n",
       "      <th>post_clicks_unique</th>\n",
       "      <th>post_engaged_fan</th>\n",
       "      <th>...</th>\n",
       "      <th>post_video_views_autoplayed</th>\n",
       "      <th>post_video_views_by_distribution_type</th>\n",
       "      <th>post_video_views_clicked_to_play</th>\n",
       "      <th>post_video_views_organic</th>\n",
       "      <th>post_video_views_organic_unique</th>\n",
       "      <th>post_video_views_paid</th>\n",
       "      <th>post_video_views_paid_unique</th>\n",
       "      <th>post_video_views_sound_on</th>\n",
       "      <th>post_video_views_unique</th>\n",
       "      <th>period</th>\n",
       "    </tr>\n",
       "  </thead>\n",
       "  <tbody>\n",
       "    <tr>\n",
       "      <th>0</th>\n",
       "      <td>2019-09-29</td>\n",
       "      <td>67</td>\n",
       "      <td>{\"share\": 6, \"like\": 56, \"comment\": 5}</td>\n",
       "      <td>{\"share\": 5, \"like\": 56, \"comment\": 5}</td>\n",
       "      <td>65</td>\n",
       "      <td>384</td>\n",
       "      <td>{\"video play\": 307, \"other clicks\": 71, \"link ...</td>\n",
       "      <td>{\"video play\": 303, \"other clicks\": 60, \"link ...</td>\n",
       "      <td>355</td>\n",
       "      <td>31</td>\n",
       "      <td>...</td>\n",
       "      <td>8074</td>\n",
       "      <td>{\"page_owned\": 8264, \"shared\": 48}</td>\n",
       "      <td>238</td>\n",
       "      <td>218</td>\n",
       "      <td>204</td>\n",
       "      <td>8094</td>\n",
       "      <td>7284</td>\n",
       "      <td>1445</td>\n",
       "      <td>7487</td>\n",
       "      <td>lifetime</td>\n",
       "    </tr>\n",
       "    <tr>\n",
       "      <th>1</th>\n",
       "      <td>2019-09-29</td>\n",
       "      <td>65</td>\n",
       "      <td>{\"share\": 5, \"like\": 58, \"comment\": 2}</td>\n",
       "      <td>{\"share\": 5, \"like\": 58, \"comment\": 2}</td>\n",
       "      <td>61</td>\n",
       "      <td>352</td>\n",
       "      <td>{\"video play\": 265, \"other clicks\": 85}</td>\n",
       "      <td>{\"video play\": 265, \"other clicks\": 71}</td>\n",
       "      <td>323</td>\n",
       "      <td>34</td>\n",
       "      <td>...</td>\n",
       "      <td>4467</td>\n",
       "      <td>{\"page_owned\": 4544, \"shared\": 143}</td>\n",
       "      <td>220</td>\n",
       "      <td>269</td>\n",
       "      <td>245</td>\n",
       "      <td>4418</td>\n",
       "      <td>4142</td>\n",
       "      <td>1391</td>\n",
       "      <td>4399</td>\n",
       "      <td>lifetime</td>\n",
       "    </tr>\n",
       "    <tr>\n",
       "      <th>2</th>\n",
       "      <td>2019-09-29</td>\n",
       "      <td>93</td>\n",
       "      <td>{\"share\": 9, \"like\": 84}</td>\n",
       "      <td>{\"share\": 8, \"like\": 82}</td>\n",
       "      <td>87</td>\n",
       "      <td>327</td>\n",
       "      <td>{\"video play\": 272, \"other clicks\": 53}</td>\n",
       "      <td>{\"video play\": 259, \"other clicks\": 48}</td>\n",
       "      <td>303</td>\n",
       "      <td>38</td>\n",
       "      <td>...</td>\n",
       "      <td>5900</td>\n",
       "      <td>{\"shared\": 50, \"page_owned\": 6035}</td>\n",
       "      <td>185</td>\n",
       "      <td>140</td>\n",
       "      <td>116</td>\n",
       "      <td>5945</td>\n",
       "      <td>5445</td>\n",
       "      <td>955</td>\n",
       "      <td>5558</td>\n",
       "      <td>lifetime</td>\n",
       "    </tr>\n",
       "  </tbody>\n",
       "</table>\n",
       "<p>3 rows × 72 columns</p>\n",
       "</div>"
      ],
      "text/plain": [
       "  insights_created_date  post_activity   \n",
       "0            2019-09-29             67  \\\n",
       "1            2019-09-29             65   \n",
       "2            2019-09-29             93   \n",
       "\n",
       "             post_activity_by_action_type   \n",
       "0  {\"share\": 6, \"like\": 56, \"comment\": 5}  \\\n",
       "1  {\"share\": 5, \"like\": 58, \"comment\": 2}   \n",
       "2                {\"share\": 9, \"like\": 84}   \n",
       "\n",
       "      post_activity_by_action_type_unique  post_activity_unique  post_clicks   \n",
       "0  {\"share\": 5, \"like\": 56, \"comment\": 5}                    65          384  \\\n",
       "1  {\"share\": 5, \"like\": 58, \"comment\": 2}                    61          352   \n",
       "2                {\"share\": 8, \"like\": 82}                    87          327   \n",
       "\n",
       "                                 post_clicks_by_type   \n",
       "0  {\"video play\": 307, \"other clicks\": 71, \"link ...  \\\n",
       "1            {\"video play\": 265, \"other clicks\": 85}   \n",
       "2            {\"video play\": 272, \"other clicks\": 53}   \n",
       "\n",
       "                          post_clicks_by_type_unique  post_clicks_unique   \n",
       "0  {\"video play\": 303, \"other clicks\": 60, \"link ...                 355  \\\n",
       "1            {\"video play\": 265, \"other clicks\": 71}                 323   \n",
       "2            {\"video play\": 259, \"other clicks\": 48}                 303   \n",
       "\n",
       "   post_engaged_fan  ...  post_video_views_autoplayed   \n",
       "0                31  ...                         8074  \\\n",
       "1                34  ...                         4467   \n",
       "2                38  ...                         5900   \n",
       "\n",
       "  post_video_views_by_distribution_type  post_video_views_clicked_to_play   \n",
       "0    {\"page_owned\": 8264, \"shared\": 48}                               238  \\\n",
       "1   {\"page_owned\": 4544, \"shared\": 143}                               220   \n",
       "2    {\"shared\": 50, \"page_owned\": 6035}                               185   \n",
       "\n",
       "  post_video_views_organic post_video_views_organic_unique   \n",
       "0                      218                             204  \\\n",
       "1                      269                             245   \n",
       "2                      140                             116   \n",
       "\n",
       "   post_video_views_paid  post_video_views_paid_unique   \n",
       "0                   8094                          7284  \\\n",
       "1                   4418                          4142   \n",
       "2                   5945                          5445   \n",
       "\n",
       "   post_video_views_sound_on  post_video_views_unique    period  \n",
       "0                       1445                     7487  lifetime  \n",
       "1                       1391                     4399  lifetime  \n",
       "2                        955                     5558  lifetime  \n",
       "\n",
       "[3 rows x 72 columns]"
      ]
     },
     "execution_count": 8,
     "metadata": {},
     "output_type": "execute_result"
    }
   ],
   "source": [
    "db_insights"
   ]
  },
  {
   "cell_type": "code",
   "execution_count": 9,
   "metadata": {},
   "outputs": [
    {
     "ename": "NameError",
     "evalue": "name 'data' is not defined",
     "output_type": "error",
     "traceback": [
      "\u001b[0;31m---------------------------------------------------------------------------\u001b[0m",
      "\u001b[0;31mNameError\u001b[0m                                 Traceback (most recent call last)",
      "Cell \u001b[0;32mIn[9], line 5\u001b[0m\n\u001b[1;32m      3\u001b[0m files_ins\u001b[39m=\u001b[39mglob\u001b[39m.\u001b[39mglob(os\u001b[39m.\u001b[39mpath\u001b[39m.\u001b[39mjoin(path_insights,\u001b[39m\"\u001b[39m\u001b[39m*.csv\u001b[39m\u001b[39m\"\u001b[39m))\n\u001b[1;32m      4\u001b[0m \u001b[39m#conn = connect(param_dic)\u001b[39;00m\n\u001b[0;32m----> 5\u001b[0m create_postgres(data,table)\n\u001b[1;32m      6\u001b[0m upload_csv_to_postgres(table,files_ins)\n",
      "File \u001b[0;32m~/SCIENCE/DW_Challenge/notebooks/../src/postgres_functions.py:54\u001b[0m, in \u001b[0;36mcreate_postgres\u001b[0;34m(db, new_table)\u001b[0m\n\u001b[1;32m     53\u001b[0m \u001b[39mdef\u001b[39;00m \u001b[39mcreate_postgres\u001b[39m (db,new_table):\n\u001b[0;32m---> 54\u001b[0m     cols\u001b[39m=\u001b[39mcols\u001b[39m=\u001b[39m\u001b[39m'\u001b[39m\u001b[39m,\u001b[39m\u001b[39m'\u001b[39m\u001b[39m.\u001b[39mjoin([column\u001b[39m.\u001b[39mreplace(\u001b[39m\"\u001b[39m\u001b[39m \u001b[39m\u001b[39m\"\u001b[39m, \u001b[39m\"\u001b[39m\u001b[39m_\u001b[39m\u001b[39m\"\u001b[39m)\u001b[39m.\u001b[39mreplace(\u001b[39m\"\u001b[39m\u001b[39m?\u001b[39m\u001b[39m\"\u001b[39m,\u001b[39m\"\u001b[39m\u001b[39m\"\u001b[39m)\u001b[39m.\u001b[39mlower() \u001b[39m+\u001b[39m \u001b[39mstr\u001b[39m(\u001b[39m'\u001b[39m\u001b[39m VARCHAR\u001b[39m\u001b[39m'\u001b[39m) \u001b[39mfor\u001b[39;00m column \u001b[39min\u001b[39;00m data\u001b[39m.\u001b[39mcolumns\u001b[39m.\u001b[39mvalues])\n\u001b[1;32m     56\u001b[0m     conn \u001b[39m=\u001b[39m connect(param_dic)\n\u001b[1;32m     57\u001b[0m     cur \u001b[39m=\u001b[39m conn\u001b[39m.\u001b[39mcursor()\n",
      "\u001b[0;31mNameError\u001b[0m: name 'data' is not defined"
     ]
    }
   ],
   "source": [
    "\n",
    "table='insights_draft'\n",
    "data=db_insights\n",
    "files_ins=glob.glob(os.path.join(path_insights,\"*.csv\"))\n",
    "#conn = connect(param_dic)\n",
    "create_postgres(data,table)\n",
    "upload_csv_to_postgres(table,files_ins)"
   ]
  },
  {
   "cell_type": "code",
   "execution_count": null,
   "metadata": {},
   "outputs": [],
   "source": [
    "files_ins"
   ]
  },
  {
   "attachments": {},
   "cell_type": "markdown",
   "metadata": {},
   "source": [
    "### Please write a SQL script to unpack the json in column post_video_view_time_by_age_bucket_and_gender in a new table, while preserving the other columns."
   ]
  },
  {
   "cell_type": "code",
   "execution_count": null,
   "metadata": {},
   "outputs": [],
   "source": [
    "SELECT \n",
    "   id, \n",
    "   data::json->'name' as name,\n",
    "   data::json->'author' ->> 'last_name' as author\n",
    "FROM books;"
   ]
  },
  {
   "cell_type": "code",
   "execution_count": null,
   "metadata": {},
   "outputs": [],
   "source": [
    "conn = connect(param_dic)\n",
    "\n",
    "sel_column='post_video_view_time_by_age_bucket_and_gender'\n",
    "table='insights_draft'\n",
    "execute_query(conn,'SELECT %s FROM %s'%(sel_column,table))"
   ]
  },
  {
   "cell_type": "code",
   "execution_count": null,
   "metadata": {},
   "outputs": [],
   "source": [
    "execute_query(conn,'SELECT %s FROM %s'%(sel_column,table))"
   ]
  },
  {
   "cell_type": "code",
   "execution_count": null,
   "metadata": {},
   "outputs": [],
   "source": [
    "execute_query(conn, \"SELECT %s  FROM %s, data::jsons->'U.18-24' as U.18-24, data::jsons->'U.25-34' as U.25-34\"%(sel_column,table))"
   ]
  },
  {
   "cell_type": "code",
   "execution_count": null,
   "metadata": {},
   "outputs": [],
   "source": [
    "execute_query(conn,'SELECT %s FROM %s, json_each(%s)'%(sel_column,table,sel_column))"
   ]
  },
  {
   "cell_type": "code",
   "execution_count": null,
   "metadata": {},
   "outputs": [],
   "source": [
    "print(sel_column)\n",
    "conn = connect(param_dic)\n",
    "execute_query(conn, \"SELECT %s json_data -> '%s' %s, FROM %s;\" %(sel_column,sel_column,'foo',table))"
   ]
  },
  {
   "cell_type": "code",
   "execution_count": null,
   "metadata": {},
   "outputs": [],
   "source": [
    "table"
   ]
  },
  {
   "cell_type": "code",
   "execution_count": null,
   "metadata": {},
   "outputs": [],
   "source": [
    "conn = psycopg2.connect(\"host=localhost dbname=postgres user=postgres\")\n",
    "cur = conn.cursor()\n",
    "cur.execute(\"\"\"\n",
    "    SELECT json_data \n",
    "        post_video_view_time_by_age_bucket_and_gender -> \"U.18-24\" as U1\n",
    "    FROM insights_draft;\n",
    "    \"\"\")\n",
    "conn.commit()\n",
    "conn.close()"
   ]
  },
  {
   "cell_type": "code",
   "execution_count": null,
   "metadata": {},
   "outputs": [],
   "source": [
    "conn = psycopg2.connect(\"host=localhost dbname=postgres user=postgres\")\n",
    "cur = conn.cursor()\n",
    "cur.execute(\"\"\"\n",
    "    SELECT (post_video_view_time_by_age_bucket_and_gender) from insights_draft;\n",
    "    \"\"\")\n",
    "conn.commit()\n",
    "conn.close()"
   ]
  },
  {
   "cell_type": "code",
   "execution_count": null,
   "metadata": {},
   "outputs": [],
   "source": [
    "execute_query(conn,'select jsonb_object_keys(%s) from %s;'%(sel_column,table))"
   ]
  },
  {
   "cell_type": "code",
   "execution_count": null,
   "metadata": {},
   "outputs": [],
   "source": [
    "table"
   ]
  },
  {
   "cell_type": "code",
   "execution_count": null,
   "metadata": {},
   "outputs": [],
   "source": [
    "print(sel_column)\n",
    "conn = connect(param_dic)\n",
    "execute_query(conn, \"SELECT %s -> 'U.18-24' AS U1 FROM %s\" %(sel_column,table))\n",
    "\n",
    "#SELECT post_video_view_time_by_age_bucket_and_gender FROM insights_draft;\n",
    "\n",
    "#SELECT post_video_view_time_by_age_bucket_and_gender json_data ->> 'U.18-24' AS U1 FROM insights_draft; "
   ]
  },
  {
   "cell_type": "code",
   "execution_count": null,
   "metadata": {},
   "outputs": [],
   "source": [
    "execute_query(conn,\"select \n",
    "    json_data #> \n",
    "       '{pizzas,1,additionalToppings}'  \n",
    "        as additional_toppings_2nd_pizza\n",
    "from test;\")"
   ]
  },
  {
   "attachments": {},
   "cell_type": "markdown",
   "metadata": {},
   "source": [
    "### Write a script for the sums per post for each gender. Additionally create the sum for age 18-34 of all genders."
   ]
  },
  {
   "cell_type": "code",
   "execution_count": null,
   "metadata": {},
   "outputs": [],
   "source": [
    "# SELECT SUM(Quantity) FROM OrderDetails;\n",
    "# add where statement WHERE Country='Mexico' WHERE Country='Mexico'\n",
    "# SELECT * FROM Products WHERE Price BETWEEN 50 AND 60;"
   ]
  }
 ],
 "metadata": {
  "kernelspec": {
   "display_name": "venvDE",
   "language": "python",
   "name": "python3"
  },
  "language_info": {
   "codemirror_mode": {
    "name": "ipython",
    "version": 3
   },
   "file_extension": ".py",
   "mimetype": "text/x-python",
   "name": "python",
   "nbconvert_exporter": "python",
   "pygments_lexer": "ipython3",
   "version": "3.10.9"
  },
  "orig_nbformat": 4
 },
 "nbformat": 4,
 "nbformat_minor": 2
}
