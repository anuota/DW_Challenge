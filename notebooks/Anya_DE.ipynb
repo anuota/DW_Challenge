{
 "cells": [
  {
   "attachments": {},
   "cell_type": "markdown",
   "metadata": {},
   "source": [
    "# DeutscheWelle Data Engineering Challenge\n",
    "\n",
    "9.05.2023\n"
   ]
  },
  {
   "attachments": {},
   "cell_type": "markdown",
   "metadata": {},
   "source": [
    "# Task 1"
   ]
  },
  {
   "attachments": {},
   "cell_type": "markdown",
   "metadata": {},
   "source": [
    "## Connect via Gmail API\n",
    "\n"
   ]
  },
  {
   "cell_type": "code",
   "execution_count": null,
   "metadata": {},
   "outputs": [],
   "source": [
    "## Script that dowloads emails from gmail inbox\n",
    "\n",
    "## from https://developers.google.com/gmail/api/reference/rest/v1/users.messages.attachments/get \n",
    "# # Method to download email attachments from gmail api\n",
    "##\n",
    "# userId dwdechallenge@gmail.com / me (authenticated user)\n",
    "# messageId \n",
    "# id  2022-09-15-23-04-08-EDT-Historical-Report-ENTRFacebook-2022-06-16--2022-09-16.csv \n",
    "#GET https://gmail.googleapis.com/gmail/v1/users/{userId}/messages/{messageId}/attachments/{id}"
   ]
  },
  {
   "cell_type": "code",
   "execution_count": 8,
   "metadata": {},
   "outputs": [],
   "source": [
    "from googleapiclient.discovery import build\n",
    "from google.oauth2.credentials import Credentials\n",
    "from googleapiclient.errors import HttpError\n",
    "import base64\n",
    "import os\n",
    "import time"
   ]
  },
  {
   "cell_type": "code",
   "execution_count": 9,
   "metadata": {},
   "outputs": [
    {
     "name": "stdout",
     "output_type": "stream",
     "text": [
      "[Errno 17] File exists: './Downloaded_files'\n",
      "2022-09-15-23-04-08-EDT-Historical-Report-ENTRFacebook-2022-06-16--2022-09-16.csv\n",
      "File 2022-09-15-23-04-08-EDT-Historical-Report-ENTRFacebook-2022-06-16--2022-09-16.csv is saved at ./Downloaded_files\n",
      "2022-09-16-23-04-01-EDT-Historical-Report-ENTRFacebook-2022-06-17--2022-09-17.csv\n",
      "File 2022-09-16-23-04-01-EDT-Historical-Report-ENTRFacebook-2022-06-17--2022-09-17.csv is saved at ./Downloaded_files\n",
      "2022-09-17-23-04-42-EDT-Historical-Report-ENTRFacebook-2022-06-18--2022-09-18.csv\n",
      "File 2022-09-17-23-04-42-EDT-Historical-Report-ENTRFacebook-2022-06-18--2022-09-18.csv is saved at ./Downloaded_files\n",
      "2022-09-18-23-03-32-EDT-Historical-Report-ENTRFacebook-2022-06-19--2022-09-19.csv\n",
      "File 2022-09-18-23-03-32-EDT-Historical-Report-ENTRFacebook-2022-06-19--2022-09-19.csv is saved at ./Downloaded_files\n",
      "2022-09-20-23-03-35-EDT-Historical-Report-ENTRFacebook-2022-06-21--2022-09-21.csv\n",
      "File 2022-09-20-23-03-35-EDT-Historical-Report-ENTRFacebook-2022-06-21--2022-09-21.csv is saved at ./Downloaded_files\n",
      "2022-09-21-23-04-26-EDT-Historical-Report-ENTRFacebook-2022-06-22--2022-09-22.csv\n",
      "File 2022-09-21-23-04-26-EDT-Historical-Report-ENTRFacebook-2022-06-22--2022-09-22.csv is saved at ./Downloaded_files\n",
      "2022-09-23-23-04-15-EDT-Historical-Report-ENTRFacebook-2022-06-24--2022-09-24.csv\n",
      "File 2022-09-23-23-04-15-EDT-Historical-Report-ENTRFacebook-2022-06-24--2022-09-24.csv is saved at ./Downloaded_files\n"
     ]
    }
   ],
   "source": [
    "#works! \n",
    "## 1) find email for the certain query i.e. 'report*csv' in attachment name\n",
    "## 2) get message ids\n",
    "## 3) get attachments ids\n",
    "## 4) downloads attachments for every found email\n",
    "\n",
    "def search_email(service, query_string,label_ids=[]):\n",
    "    #try:\n",
    "        message_list_response = service.users().messages().list(\n",
    "            userId='me',\n",
    "            labelIds=label_ids,\n",
    "            q=query_string\n",
    "        ).execute()\n",
    "\n",
    "        message_items=message_list_response.get('messages')\n",
    "        nextPageToken=message_list_response.get('nextPageToken')\n",
    "\n",
    "        while nextPageToken:\n",
    "            message_list_response = service.users().messages().list(\n",
    "                    userId='me',\n",
    "                    labelIds=label_ids,\n",
    "                    q=query_string,\n",
    "                    pageToken=nextPageToken\n",
    "            ).execute()    \n",
    "\n",
    "            message_items.extend(message_list_response.get('messages'))\n",
    "            nextPageToken=message_items.get('nextPageToken')\n",
    "        return message_items\n",
    "    #except Exception as e:\n",
    "    #    return 'No emails found'\n",
    "\n",
    "def get_message_detail(msg_id,msg_format='metadata',metadata_headers: list=None):\n",
    "    message_detail=service.users().messages().get(\n",
    "        userId='me',\n",
    "        id=msg_id,\n",
    "        format=msg_format,\n",
    "        metadataHeaders=metadata_headers\n",
    "    ).execute()\n",
    "    return message_detail\n",
    "\n",
    "def get_file_data(message_id,attachment_id,file_name,save_location):\n",
    "    response=service.users().messages().attachments().get(\n",
    "        userId='me',\n",
    "        messageId=message_id,\n",
    "        id=attachment_id\n",
    "    ).execute()\n",
    "\n",
    "    file_data=base64.urlsafe_b64decode(response.get('data').encode('UTF-8'))\n",
    "    return file_data\n",
    "    \n",
    "\n",
    "\n",
    "# If modifying these scopes, delete the file token.json.\n",
    "SCOPES = ['https://www.googleapis.com/auth/gmail.readonly']\n",
    "creds = Credentials.from_authorized_user_file('../token.json', SCOPES)\n",
    "service = build('gmail', 'v1', credentials=creds)\n",
    "\n",
    "## search for emails with 'report' in the attachment name\n",
    "#query_string='has:attachment' # all email with attachments\n",
    "query_string='filename:report*csv' #find all the email with attachment in csv format containing 'report' in their name\n",
    "#query_string='report' # all email with report in subject/body text\n",
    "email_messages = search_email(service, query_string,['INBOX'])\n",
    "#print(email_messages)\n",
    "# try:\n",
    "#     path = os.path.join('./', 'Downloaded_files')\n",
    "#     os.mkdir(path)\n",
    "# except OSError as error:\n",
    "#     print(error) \n",
    "save_location='../data/downloaded'\n",
    "## download attachments for found emails \n",
    "\n",
    "for email_message in email_messages:\n",
    "    #print(email_message['id'])\n",
    "    #187ffb2fbf3c1bc5\n",
    "    messageDetail = get_message_detail(email_message['id'],msg_format='full',metadata_headers=['parts'])\n",
    "    #print(messageDetail)\n",
    "    messageDetailPayload = messageDetail.get('payload')\n",
    "\n",
    "    if 'parts' in messageDetailPayload:\n",
    "        for msgPayload in messageDetailPayload['parts']:\n",
    "            file_name = msgPayload['filename']\n",
    "            body=msgPayload['body']\n",
    "\n",
    "            if 'attachmentId' in body:\n",
    "                attachment_id = body['attachmentId']\n",
    "                attachment_content= get_file_data(email_message['id'],attachment_id,file_name,save_location)\n",
    "                print(file_name)\n",
    "                \n",
    "                #with open(os.path.join(save_location + '/' 'Downloaded_files' + '/' + file_name),'wb') as _f:\n",
    "                with open(os.path.join(save_location + '/' + file_name),'wb') as _f:\n",
    "                    _f.write(attachment_content)\n",
    "                    print(f'File {file_name} is saved at {save_location}')\n",
    "    time.sleep(0.5)\n",
    "    #break"
   ]
  },
  {
   "attachments": {},
   "cell_type": "markdown",
   "metadata": {},
   "source": [
    "## Read the data from the files and upload them to the postgres database."
   ]
  },
  {
   "cell_type": "code",
   "execution_count": 19,
   "metadata": {},
   "outputs": [],
   "source": [
    "import pandas as pd\n",
    "import psycopg2\n",
    "import os\n",
    "import glob\n",
    "\n"
   ]
  },
  {
   "cell_type": "code",
   "execution_count": 20,
   "metadata": {},
   "outputs": [],
   "source": [
    "#Write a python script that identifies the correct daily reports\n",
    "\n",
    "#!ls /Users/anya/SCIENCE/DW_Challenge/Junior_DE_Task/daily_reports/\n",
    "\n",
    "#daily_repo_filepath= \"/Users/anya/SCIENCE/DW_Challenge/Junior_DE_Task/daily_reports/\"\n",
    "daily_repo_filepath='./Downloaded_files' # downloaded files via API\n",
    "#file1='2022-09-15-23-04-08-EDT-Historical-Report-ENTRFacebook-2022-06-16--2022-09-16.csv'\n",
    "files=glob.glob(os.path.join(daily_repo_filepath,\"*.csv\"))\n",
    "##date\n"
   ]
  },
  {
   "cell_type": "code",
   "execution_count": 21,
   "metadata": {},
   "outputs": [
    {
     "data": {
      "text/plain": [
       "['./Downloaded_files/2022-09-18-23-03-32-EDT-Historical-Report-ENTRFacebook-2022-06-19--2022-09-19.csv',\n",
       " './Downloaded_files/2022-09-16-23-04-01-EDT-Historical-Report-ENTRFacebook-2022-06-17--2022-09-17.csv',\n",
       " './Downloaded_files/2022-09-21-23-04-26-EDT-Historical-Report-ENTRFacebook-2022-06-22--2022-09-22.csv',\n",
       " './Downloaded_files/2022-09-17-23-04-42-EDT-Historical-Report-ENTRFacebook-2022-06-18--2022-09-18.csv',\n",
       " './Downloaded_files/2022-09-20-23-03-35-EDT-Historical-Report-ENTRFacebook-2022-06-21--2022-09-21.csv',\n",
       " './Downloaded_files/2022-09-15-23-04-08-EDT-Historical-Report-ENTRFacebook-2022-06-16--2022-09-16.csv',\n",
       " './Downloaded_files/2022-09-23-23-04-15-EDT-Historical-Report-ENTRFacebook-2022-06-24--2022-09-24.csv']"
      ]
     },
     "execution_count": 21,
     "metadata": {},
     "output_type": "execute_result"
    }
   ],
   "source": [
    "files"
   ]
  },
  {
   "cell_type": "code",
   "execution_count": 27,
   "metadata": {},
   "outputs": [],
   "source": [
    "data= pd.read_csv(files[0])\n",
    "#data= [pd.read_csv(file) for file in files]\n",
    "# data=pd.read_csv(daily_repo_filepath+files)"
   ]
  },
  {
   "cell_type": "code",
   "execution_count": 28,
   "metadata": {},
   "outputs": [
    {
     "data": {
      "text/html": [
       "<div>\n",
       "<style scoped>\n",
       "    .dataframe tbody tr th:only-of-type {\n",
       "        vertical-align: middle;\n",
       "    }\n",
       "\n",
       "    .dataframe tbody tr th {\n",
       "        vertical-align: top;\n",
       "    }\n",
       "\n",
       "    .dataframe thead th {\n",
       "        text-align: right;\n",
       "    }\n",
       "</style>\n",
       "<table border=\"1\" class=\"dataframe\">\n",
       "  <thead>\n",
       "    <tr style=\"text-align: right;\">\n",
       "      <th></th>\n",
       "      <th>Page Name</th>\n",
       "      <th>User Name</th>\n",
       "      <th>Facebook Id</th>\n",
       "      <th>Page Category</th>\n",
       "      <th>Page Admin Top Country</th>\n",
       "      <th>Page Description</th>\n",
       "      <th>Page Created</th>\n",
       "      <th>Likes at Posting</th>\n",
       "      <th>Followers at Posting</th>\n",
       "      <th>Post Created</th>\n",
       "      <th>...</th>\n",
       "      <th>Message</th>\n",
       "      <th>Link</th>\n",
       "      <th>Final Link</th>\n",
       "      <th>Image Text</th>\n",
       "      <th>Link Text</th>\n",
       "      <th>Description</th>\n",
       "      <th>Sponsor Id</th>\n",
       "      <th>Sponsor Name</th>\n",
       "      <th>Sponsor Category</th>\n",
       "      <th>Overperforming Score</th>\n",
       "    </tr>\n",
       "  </thead>\n",
       "  <tbody>\n",
       "    <tr>\n",
       "      <th>0</th>\n",
       "      <td>Onet Styl Życia</td>\n",
       "      <td>onetstylzycia</td>\n",
       "      <td>372341662829366</td>\n",
       "      <td>NEWS_SITE</td>\n",
       "      <td>PL</td>\n",
       "      <td>Najbardziej stylowy serwis w Polsce!</td>\n",
       "      <td>2012-06-05 16:57:21</td>\n",
       "      <td>558890</td>\n",
       "      <td>563792</td>\n",
       "      <td>2022-09-18 21:00:26 EDT</td>\n",
       "      <td>...</td>\n",
       "      <td>Wyrwał: w rękach Rosjan jest ok. 17 proc. tery...</td>\n",
       "      <td>https://www.facebook.com/onetstylzycia/videos/...</td>\n",
       "      <td>NaN</td>\n",
       "      <td>NaN</td>\n",
       "      <td>\"To jest przełom w wojnie w Ukrainie, zdobywam...</td>\n",
       "      <td>NaN</td>\n",
       "      <td>NaN</td>\n",
       "      <td>NaN</td>\n",
       "      <td>NaN</td>\n",
       "      <td>-0.89</td>\n",
       "    </tr>\n",
       "    <tr>\n",
       "      <th>1</th>\n",
       "      <td>DW News</td>\n",
       "      <td>deutschewellenews</td>\n",
       "      <td>100064359716848</td>\n",
       "      <td>NEWS_SITE</td>\n",
       "      <td>DE</td>\n",
       "      <td>Follow us for trustworthy news and analysis fr...</td>\n",
       "      <td>2008-08-26 12:26:42</td>\n",
       "      <td>2664421</td>\n",
       "      <td>3150873</td>\n",
       "      <td>2022-09-18 20:12:16 EDT</td>\n",
       "      <td>...</td>\n",
       "      <td>Every year 400 million tonnes of plastic are p...</td>\n",
       "      <td>https://www.facebook.com/deutschewellenews/vid...</td>\n",
       "      <td>NaN</td>\n",
       "      <td>NaN</td>\n",
       "      <td>Highlighting the plastic waste problem</td>\n",
       "      <td>NaN</td>\n",
       "      <td>NaN</td>\n",
       "      <td>NaN</td>\n",
       "      <td>NaN</td>\n",
       "      <td>-3.29</td>\n",
       "    </tr>\n",
       "    <tr>\n",
       "      <th>2</th>\n",
       "      <td>DW Euromaxx</td>\n",
       "      <td>dw.euromaxx</td>\n",
       "      <td>211745678846355</td>\n",
       "      <td>BROADCASTING_MEDIA_PRODUCTION</td>\n",
       "      <td>DE</td>\n",
       "      <td>Euromaxx is made for those who love European #...</td>\n",
       "      <td>2011-05-17 14:08:01</td>\n",
       "      <td>501640</td>\n",
       "      <td>756194</td>\n",
       "      <td>2022-09-18 19:15:16 EDT</td>\n",
       "      <td>...</td>\n",
       "      <td>🥚🥔 In Spain, they're eaten for breakfast, lunc...</td>\n",
       "      <td>https://www.facebook.com/dw.euromaxx/videos/47...</td>\n",
       "      <td>NaN</td>\n",
       "      <td>NaN</td>\n",
       "      <td>The Secrets Behind the Traditional Spanish Tor...</td>\n",
       "      <td>NaN</td>\n",
       "      <td>NaN</td>\n",
       "      <td>NaN</td>\n",
       "      <td>NaN</td>\n",
       "      <td>1.01</td>\n",
       "    </tr>\n",
       "    <tr>\n",
       "      <th>3</th>\n",
       "      <td>Onet Wiadomości</td>\n",
       "      <td>OnetWiadomosci</td>\n",
       "      <td>56024223012</td>\n",
       "      <td>NEWS_SITE</td>\n",
       "      <td>PL</td>\n",
       "      <td>Jeśli macie jakieś uwagi, chcecie pokazać, jak...</td>\n",
       "      <td>2009-01-13 10:54:16</td>\n",
       "      <td>533859</td>\n",
       "      <td>625613</td>\n",
       "      <td>2022-09-18 19:00:20 EDT</td>\n",
       "      <td>...</td>\n",
       "      <td>\"Staram się, aby to nie była zwykła relacja z ...</td>\n",
       "      <td>https://www.facebook.com/OnetWiadomosci/videos...</td>\n",
       "      <td>NaN</td>\n",
       "      <td>NaN</td>\n",
       "      <td>\"Robię filmiki komediowe, podróżnicze, ciekawo...</td>\n",
       "      <td>NaN</td>\n",
       "      <td>NaN</td>\n",
       "      <td>NaN</td>\n",
       "      <td>NaN</td>\n",
       "      <td>-5.17</td>\n",
       "    </tr>\n",
       "    <tr>\n",
       "      <th>4</th>\n",
       "      <td>Konbini news</td>\n",
       "      <td>konbininews</td>\n",
       "      <td>183081005507412</td>\n",
       "      <td>MEDIA_NEWS_COMPANY</td>\n",
       "      <td>FR</td>\n",
       "      <td>Society &amp; Politics by Konbini</td>\n",
       "      <td>2017-01-30 10:03:14</td>\n",
       "      <td>722701</td>\n",
       "      <td>1546605</td>\n",
       "      <td>2022-09-18 16:05:01 EDT</td>\n",
       "      <td>...</td>\n",
       "      <td>Algorithme, limites entre vie pro et perso, me...</td>\n",
       "      <td>https://buff.ly/3BHd46t</td>\n",
       "      <td>https://www.konbini.com/videos/enjoyphoenix-de...</td>\n",
       "      <td>NaN</td>\n",
       "      <td>EnjoyPhoenix dévoile les réalités du métier de...</td>\n",
       "      <td>Algorithme, limites entre vie pro et perso, me...</td>\n",
       "      <td>NaN</td>\n",
       "      <td>NaN</td>\n",
       "      <td>NaN</td>\n",
       "      <td>-4.72</td>\n",
       "    </tr>\n",
       "    <tr>\n",
       "      <th>...</th>\n",
       "      <td>...</td>\n",
       "      <td>...</td>\n",
       "      <td>...</td>\n",
       "      <td>...</td>\n",
       "      <td>...</td>\n",
       "      <td>...</td>\n",
       "      <td>...</td>\n",
       "      <td>...</td>\n",
       "      <td>...</td>\n",
       "      <td>...</td>\n",
       "      <td>...</td>\n",
       "      <td>...</td>\n",
       "      <td>...</td>\n",
       "      <td>...</td>\n",
       "      <td>...</td>\n",
       "      <td>...</td>\n",
       "      <td>...</td>\n",
       "      <td>...</td>\n",
       "      <td>...</td>\n",
       "      <td>...</td>\n",
       "      <td>...</td>\n",
       "    </tr>\n",
       "    <tr>\n",
       "      <th>7066</th>\n",
       "      <td>ENTR ro</td>\n",
       "      <td>ro.entr</td>\n",
       "      <td>100068014577172</td>\n",
       "      <td>BROADCASTING_MEDIA_PRODUCTION</td>\n",
       "      <td>DE</td>\n",
       "      <td>Tânăr, curajos, european. ENTR este un spațiu ...</td>\n",
       "      <td>2021-04-12 09:27:16</td>\n",
       "      <td>3160</td>\n",
       "      <td>3804</td>\n",
       "      <td>2022-06-19 02:10:05 EDT</td>\n",
       "      <td>...</td>\n",
       "      <td>„Dacă o să ne uităm la cantitatea de deșeuri g...</td>\n",
       "      <td>https://www.facebook.com/ro.entr/videos/439191...</td>\n",
       "      <td>NaN</td>\n",
       "      <td>NaN</td>\n",
       "      <td>De ce România reciclează doar 15% din deșeuri</td>\n",
       "      <td>NaN</td>\n",
       "      <td>NaN</td>\n",
       "      <td>NaN</td>\n",
       "      <td>NaN</td>\n",
       "      <td>-10.50</td>\n",
       "    </tr>\n",
       "    <tr>\n",
       "      <th>7067</th>\n",
       "      <td>Noizz Food</td>\n",
       "      <td>NoizzFood</td>\n",
       "      <td>975020859234684</td>\n",
       "      <td>WEBSITE</td>\n",
       "      <td>PL</td>\n",
       "      <td>Zainspiruj się naszymi przepisami i poradami n...</td>\n",
       "      <td>2016-02-09 12:37:25</td>\n",
       "      <td>1092438</td>\n",
       "      <td>1286335</td>\n",
       "      <td>2022-06-19 02:03:00 EDT</td>\n",
       "      <td>...</td>\n",
       "      <td>Śniadanie zjedzone, można myśleć o obiedzie - ...</td>\n",
       "      <td>https://www.facebook.com/NoizzFood/videos/5833...</td>\n",
       "      <td>NaN</td>\n",
       "      <td>NaN</td>\n",
       "      <td>Buraczkowe penne z parmeznem</td>\n",
       "      <td>NaN</td>\n",
       "      <td>NaN</td>\n",
       "      <td>NaN</td>\n",
       "      <td>NaN</td>\n",
       "      <td>-1.77</td>\n",
       "    </tr>\n",
       "    <tr>\n",
       "      <th>7068</th>\n",
       "      <td>RFI Romania</td>\n",
       "      <td>RFI.Romania.FM</td>\n",
       "      <td>187935071639</td>\n",
       "      <td>NEWS_SITE</td>\n",
       "      <td>FR</td>\n",
       "      <td>Pagina oficială RFI România. Puteţi să ne urmă...</td>\n",
       "      <td>2009-11-26 07:57:41</td>\n",
       "      <td>85515</td>\n",
       "      <td>96074</td>\n",
       "      <td>2022-06-19 02:01:06 EDT</td>\n",
       "      <td>...</td>\n",
       "      <td>Raluca Avram, o tânără din Cluj-Napoca, pasion...</td>\n",
       "      <td>https://www.facebook.com/RFI.Romania.FM/videos...</td>\n",
       "      <td>NaN</td>\n",
       "      <td>NaN</td>\n",
       "      <td>Interviu cu Raluca, o fată specială, despre mo...</td>\n",
       "      <td>NaN</td>\n",
       "      <td>NaN</td>\n",
       "      <td>NaN</td>\n",
       "      <td>NaN</td>\n",
       "      <td>-11.60</td>\n",
       "    </tr>\n",
       "    <tr>\n",
       "      <th>7069</th>\n",
       "      <td>ENTR en</td>\n",
       "      <td>en.entr</td>\n",
       "      <td>102500518635499</td>\n",
       "      <td>BROADCASTING_MEDIA_PRODUCTION</td>\n",
       "      <td>FR</td>\n",
       "      <td>Young, bold, European. ENTR a digital space fo...</td>\n",
       "      <td>2021-04-12 09:22:28</td>\n",
       "      <td>469</td>\n",
       "      <td>889</td>\n",
       "      <td>2022-06-19 00:45:00 EDT</td>\n",
       "      <td>...</td>\n",
       "      <td>The EU wants to ban the sell of combustion car...</td>\n",
       "      <td>https://www.facebook.com/en.entr/videos/574913...</td>\n",
       "      <td>NaN</td>\n",
       "      <td>NaN</td>\n",
       "      <td>The end of fossil fuelled cars?</td>\n",
       "      <td>NaN</td>\n",
       "      <td>NaN</td>\n",
       "      <td>NaN</td>\n",
       "      <td>NaN</td>\n",
       "      <td>-27.00</td>\n",
       "    </tr>\n",
       "    <tr>\n",
       "      <th>7070</th>\n",
       "      <td>Onet Wiadomości</td>\n",
       "      <td>OnetWiadomosci</td>\n",
       "      <td>56024223012</td>\n",
       "      <td>NEWS_SITE</td>\n",
       "      <td>PL</td>\n",
       "      <td>Jeśli macie jakieś uwagi, chcecie pokazać, jak...</td>\n",
       "      <td>2009-01-13 10:54:16</td>\n",
       "      <td>530987</td>\n",
       "      <td>621564</td>\n",
       "      <td>2022-06-19 00:00:56 EDT</td>\n",
       "      <td>...</td>\n",
       "      <td>\"To, że algorytmy są sprawniejsze, skuteczniej...</td>\n",
       "      <td>https://www.facebook.com/OnetWiadomosci/videos...</td>\n",
       "      <td>NaN</td>\n",
       "      <td>NaN</td>\n",
       "      <td>Sztuczna inteligencja zyskała świadomość? \"Nie...</td>\n",
       "      <td>NaN</td>\n",
       "      <td>NaN</td>\n",
       "      <td>NaN</td>\n",
       "      <td>NaN</td>\n",
       "      <td>-3.17</td>\n",
       "    </tr>\n",
       "  </tbody>\n",
       "</table>\n",
       "<p>7071 rows × 40 columns</p>\n",
       "</div>"
      ],
      "text/plain": [
       "            Page Name          User Name      Facebook Id   \n",
       "0     Onet Styl Życia      onetstylzycia  372341662829366  \\\n",
       "1             DW News  deutschewellenews  100064359716848   \n",
       "2         DW Euromaxx        dw.euromaxx  211745678846355   \n",
       "3     Onet Wiadomości     OnetWiadomosci      56024223012   \n",
       "4        Konbini news        konbininews  183081005507412   \n",
       "...               ...                ...              ...   \n",
       "7066          ENTR ro            ro.entr  100068014577172   \n",
       "7067       Noizz Food          NoizzFood  975020859234684   \n",
       "7068      RFI Romania     RFI.Romania.FM     187935071639   \n",
       "7069          ENTR en            en.entr  102500518635499   \n",
       "7070  Onet Wiadomości     OnetWiadomosci      56024223012   \n",
       "\n",
       "                      Page Category Page Admin Top Country   \n",
       "0                         NEWS_SITE                     PL  \\\n",
       "1                         NEWS_SITE                     DE   \n",
       "2     BROADCASTING_MEDIA_PRODUCTION                     DE   \n",
       "3                         NEWS_SITE                     PL   \n",
       "4                MEDIA_NEWS_COMPANY                     FR   \n",
       "...                             ...                    ...   \n",
       "7066  BROADCASTING_MEDIA_PRODUCTION                     DE   \n",
       "7067                        WEBSITE                     PL   \n",
       "7068                      NEWS_SITE                     FR   \n",
       "7069  BROADCASTING_MEDIA_PRODUCTION                     FR   \n",
       "7070                      NEWS_SITE                     PL   \n",
       "\n",
       "                                       Page Description         Page Created   \n",
       "0                  Najbardziej stylowy serwis w Polsce!  2012-06-05 16:57:21  \\\n",
       "1     Follow us for trustworthy news and analysis fr...  2008-08-26 12:26:42   \n",
       "2     Euromaxx is made for those who love European #...  2011-05-17 14:08:01   \n",
       "3     Jeśli macie jakieś uwagi, chcecie pokazać, jak...  2009-01-13 10:54:16   \n",
       "4                         Society & Politics by Konbini  2017-01-30 10:03:14   \n",
       "...                                                 ...                  ...   \n",
       "7066  Tânăr, curajos, european. ENTR este un spațiu ...  2021-04-12 09:27:16   \n",
       "7067  Zainspiruj się naszymi przepisami i poradami n...  2016-02-09 12:37:25   \n",
       "7068  Pagina oficială RFI România. Puteţi să ne urmă...  2009-11-26 07:57:41   \n",
       "7069  Young, bold, European. ENTR a digital space fo...  2021-04-12 09:22:28   \n",
       "7070  Jeśli macie jakieś uwagi, chcecie pokazać, jak...  2009-01-13 10:54:16   \n",
       "\n",
       "      Likes at Posting  Followers at Posting             Post Created  ...   \n",
       "0               558890                563792  2022-09-18 21:00:26 EDT  ...  \\\n",
       "1              2664421               3150873  2022-09-18 20:12:16 EDT  ...   \n",
       "2               501640                756194  2022-09-18 19:15:16 EDT  ...   \n",
       "3               533859                625613  2022-09-18 19:00:20 EDT  ...   \n",
       "4               722701               1546605  2022-09-18 16:05:01 EDT  ...   \n",
       "...                ...                   ...                      ...  ...   \n",
       "7066              3160                  3804  2022-06-19 02:10:05 EDT  ...   \n",
       "7067           1092438               1286335  2022-06-19 02:03:00 EDT  ...   \n",
       "7068             85515                 96074  2022-06-19 02:01:06 EDT  ...   \n",
       "7069               469                   889  2022-06-19 00:45:00 EDT  ...   \n",
       "7070            530987                621564  2022-06-19 00:00:56 EDT  ...   \n",
       "\n",
       "                                                Message   \n",
       "0     Wyrwał: w rękach Rosjan jest ok. 17 proc. tery...  \\\n",
       "1     Every year 400 million tonnes of plastic are p...   \n",
       "2     🥚🥔 In Spain, they're eaten for breakfast, lunc...   \n",
       "3     \"Staram się, aby to nie była zwykła relacja z ...   \n",
       "4     Algorithme, limites entre vie pro et perso, me...   \n",
       "...                                                 ...   \n",
       "7066  „Dacă o să ne uităm la cantitatea de deșeuri g...   \n",
       "7067  Śniadanie zjedzone, można myśleć o obiedzie - ...   \n",
       "7068  Raluca Avram, o tânără din Cluj-Napoca, pasion...   \n",
       "7069  The EU wants to ban the sell of combustion car...   \n",
       "7070  \"To, że algorytmy są sprawniejsze, skuteczniej...   \n",
       "\n",
       "                                                   Link   \n",
       "0     https://www.facebook.com/onetstylzycia/videos/...  \\\n",
       "1     https://www.facebook.com/deutschewellenews/vid...   \n",
       "2     https://www.facebook.com/dw.euromaxx/videos/47...   \n",
       "3     https://www.facebook.com/OnetWiadomosci/videos...   \n",
       "4                               https://buff.ly/3BHd46t   \n",
       "...                                                 ...   \n",
       "7066  https://www.facebook.com/ro.entr/videos/439191...   \n",
       "7067  https://www.facebook.com/NoizzFood/videos/5833...   \n",
       "7068  https://www.facebook.com/RFI.Romania.FM/videos...   \n",
       "7069  https://www.facebook.com/en.entr/videos/574913...   \n",
       "7070  https://www.facebook.com/OnetWiadomosci/videos...   \n",
       "\n",
       "                                             Final Link Image Text   \n",
       "0                                                   NaN        NaN  \\\n",
       "1                                                   NaN        NaN   \n",
       "2                                                   NaN        NaN   \n",
       "3                                                   NaN        NaN   \n",
       "4     https://www.konbini.com/videos/enjoyphoenix-de...        NaN   \n",
       "...                                                 ...        ...   \n",
       "7066                                                NaN        NaN   \n",
       "7067                                                NaN        NaN   \n",
       "7068                                                NaN        NaN   \n",
       "7069                                                NaN        NaN   \n",
       "7070                                                NaN        NaN   \n",
       "\n",
       "                                              Link Text   \n",
       "0     \"To jest przełom w wojnie w Ukrainie, zdobywam...  \\\n",
       "1                Highlighting the plastic waste problem   \n",
       "2     The Secrets Behind the Traditional Spanish Tor...   \n",
       "3     \"Robię filmiki komediowe, podróżnicze, ciekawo...   \n",
       "4     EnjoyPhoenix dévoile les réalités du métier de...   \n",
       "...                                                 ...   \n",
       "7066      De ce România reciclează doar 15% din deșeuri   \n",
       "7067                       Buraczkowe penne z parmeznem   \n",
       "7068  Interviu cu Raluca, o fată specială, despre mo...   \n",
       "7069                    The end of fossil fuelled cars?   \n",
       "7070  Sztuczna inteligencja zyskała świadomość? \"Nie...   \n",
       "\n",
       "                                            Description  Sponsor Id   \n",
       "0                                                   NaN         NaN  \\\n",
       "1                                                   NaN         NaN   \n",
       "2                                                   NaN         NaN   \n",
       "3                                                   NaN         NaN   \n",
       "4     Algorithme, limites entre vie pro et perso, me...         NaN   \n",
       "...                                                 ...         ...   \n",
       "7066                                                NaN         NaN   \n",
       "7067                                                NaN         NaN   \n",
       "7068                                                NaN         NaN   \n",
       "7069                                                NaN         NaN   \n",
       "7070                                                NaN         NaN   \n",
       "\n",
       "      Sponsor Name  Sponsor Category  Overperforming Score   \n",
       "0              NaN               NaN                  -0.89  \n",
       "1              NaN               NaN                  -3.29  \n",
       "2              NaN               NaN                   1.01  \n",
       "3              NaN               NaN                  -5.17  \n",
       "4              NaN               NaN                  -4.72  \n",
       "...            ...               ...                    ...  \n",
       "7066           NaN               NaN                 -10.50  \n",
       "7067           NaN               NaN                  -1.77  \n",
       "7068           NaN               NaN                 -11.60  \n",
       "7069           NaN               NaN                 -27.00  \n",
       "7070           NaN               NaN                  -3.17  \n",
       "\n",
       "[7071 rows x 40 columns]"
      ]
     },
     "execution_count": 28,
     "metadata": {},
     "output_type": "execute_result"
    }
   ],
   "source": [
    "data"
   ]
  },
  {
   "cell_type": "code",
   "execution_count": 29,
   "metadata": {},
   "outputs": [],
   "source": [
    "# connect to postgres database\n",
    "param_dic = {\n",
    "    \"host\"      : \"localhost\",\n",
    "    \"database\"  : \"postgres\",\n",
    "    \"user\"      : \"postgres\",\n",
    "}\n",
    "def connect(params_dic):\n",
    "    \"\"\" Connect to the PostgreSQL database server \"\"\"\n",
    "    conn = None\n",
    "    try:\n",
    "        # connect to the PostgreSQL server\n",
    "        print('Connecting to the PostgreSQL database...')\n",
    "        conn = psycopg2.connect(**params_dic)\n",
    "    except (Exception, psycopg2.DatabaseError) as error:\n",
    "        print(error)\n",
    "        sys.exit(1) \n",
    "    print(\"Connection successful\")\n",
    "    return conn"
   ]
  },
  {
   "cell_type": "code",
   "execution_count": 30,
   "metadata": {},
   "outputs": [
    {
     "name": "stdout",
     "output_type": "stream",
     "text": [
      "Connecting to the PostgreSQL database...\n",
      "Connection successful\n"
     ]
    }
   ],
   "source": [
    "conn = connect(param_dic)\n",
    "\n",
    "def execute_query(conn, query):\n",
    "    \"\"\" Execute a single query \"\"\"\n",
    "    connect(param_dic)\n",
    "    ret = 0 # Return value\n",
    "    cursor = conn.cursor()\n",
    "    try:\n",
    "        cursor.execute(query)\n",
    "        conn.commit()\n",
    "    except (Exception, psycopg2.DatabaseError) as error:\n",
    "        print(\"Error: %s\" % error)\n",
    "        conn.rollback()\n",
    "        cursor.close()\n",
    "        return 1\n",
    "\n",
    "    # If this was a select query, return the result\n",
    "    if 'select' in query.lower():\n",
    "        ret = cursor.fetchall()\n",
    "    cursor.close()\n",
    "    return ret"
   ]
  },
  {
   "cell_type": "code",
   "execution_count": 31,
   "metadata": {},
   "outputs": [
    {
     "name": "stdout",
     "output_type": "stream",
     "text": [
      "Connecting to the PostgreSQL database...\n",
      "Connection successful\n"
     ]
    },
    {
     "data": {
      "text/plain": [
       "0"
      ]
     },
     "execution_count": 31,
     "metadata": {},
     "output_type": "execute_result"
    }
   ],
   "source": [
    "#create postgres database\n",
    "\n",
    "cols=','.join([column.replace(\" \", \"_\").replace(\"?\",\"\").lower() + str(' VARCHAR') for column in data.columns.values])\n",
    "new_table='new_table'\n",
    "\n",
    "#query=(\"DROP TABLE IF EXISTS %s;\"%(new_table))\n",
    "query=(\"CREATE TABLE IF NOT EXISTS %s(%s)\" %(new_table,(cols))) \n",
    "\n",
    "execute_query(conn, query)"
   ]
  },
  {
   "cell_type": "code",
   "execution_count": null,
   "metadata": {},
   "outputs": [],
   "source": [
    "# 2nd option create postgres database\n",
    "def create_postgres (db,new_table):\n",
    "    cols=cols=','.join([column.replace(\" \", \"_\").replace(\"?\",\"\").lower() + str(' VARCHAR') for column in data.columns.values])\n",
    "\n",
    "    conn = connect(param_dic)\n",
    "    cur = conn.cursor()\n",
    "\n",
    "    #drop table if already exists\n",
    "    cur.execute(\"DROP TABLE IF EXISTS %s;\"%(new_table))\n",
    "    #create database\n",
    "    cur.execute(\"CREATE TABLE IF NOT EXISTS %s(%s)\" %(new_table,(cols))) \n",
    "    conn.commit()\n",
    "    conn.close()"
   ]
  },
  {
   "cell_type": "code",
   "execution_count": 32,
   "metadata": {},
   "outputs": [],
   "source": [
    "## Upload data to the postgres database\n",
    "\n",
    "def upload_csv_to_postgres(table, csv):\n",
    "    conn = connect(param_dic)\n",
    "    cur = conn.cursor()\n",
    "    try:\n",
    "        [cur.copy_expert(\"COPY %s FROM STDIN WITH DELIMITER ',' CSV \"%(table), open(csv_file)) for csv_file in files]\n",
    "    except (Exception, psycopg2.DatabaseError) as error:\n",
    "        print(\"Error: %s\" % error)\n",
    "        conn.rollback()\n",
    "        cur.close()\n",
    "        return 1\n",
    "\n",
    "    conn.commit()\n",
    "    conn.close()"
   ]
  },
  {
   "cell_type": "code",
   "execution_count": 34,
   "metadata": {},
   "outputs": [
    {
     "name": "stdout",
     "output_type": "stream",
     "text": [
      "Connecting to the PostgreSQL database...\n",
      "Connection successful\n",
      "Connecting to the PostgreSQL database...\n",
      "Connection successful\n",
      "Connecting to the PostgreSQL database...\n",
      "Connection successful\n",
      "Connecting to the PostgreSQL database...\n",
      "Connection successful\n",
      "Connecting to the PostgreSQL database...\n",
      "Connection successful\n",
      "Connecting to the PostgreSQL database...\n",
      "Connection successful\n",
      "Connecting to the PostgreSQL database...\n",
      "Connection successful\n"
     ]
    },
    {
     "data": {
      "text/plain": [
       "[None, None, None, None, None, None, None]"
      ]
     },
     "execution_count": 34,
     "metadata": {},
     "output_type": "execute_result"
    }
   ],
   "source": [
    "table='new_table'\n",
    "\n",
    "#create_postgres(data,table)\n",
    "#upload_csv_to_postgres(table,files)\n",
    "[upload_csv_to_postgres(table,files) for file in files]\n"
   ]
  },
  {
   "cell_type": "code",
   "execution_count": null,
   "metadata": {},
   "outputs": [],
   "source": [
    "conn = connect(param_dic)\n",
    "execute_query(conn, 'SELECT Page_Name User_Name FROM new_table')"
   ]
  },
  {
   "cell_type": "code",
   "execution_count": null,
   "metadata": {},
   "outputs": [],
   "source": [
    "##SQL script to process the data and push the data to GIT\n",
    "## create tables \n"
   ]
  },
  {
   "cell_type": "code",
   "execution_count": null,
   "metadata": {},
   "outputs": [],
   "source": []
  },
  {
   "attachments": {},
   "cell_type": "markdown",
   "metadata": {},
   "source": [
    "# Task 2"
   ]
  },
  {
   "attachments": {},
   "cell_type": "markdown",
   "metadata": {},
   "source": [
    "#### Have a look at the dwh_dl_facebook_post_insights.csv. You will find there 3 rows for seperate posts. Import the csv to a database table"
   ]
  },
  {
   "cell_type": "code",
   "execution_count": null,
   "metadata": {},
   "outputs": [],
   "source": [
    "path_insights='/Users/anya/SCIENCE/DW_Challenge/Junior_DE_Task/'\n",
    "db_insights=pd.read_csv(path_insights+'dwh_dl_facebook_post_insights.csv')"
   ]
  },
  {
   "cell_type": "code",
   "execution_count": null,
   "metadata": {},
   "outputs": [],
   "source": [
    "db_insights"
   ]
  },
  {
   "cell_type": "code",
   "execution_count": null,
   "metadata": {},
   "outputs": [],
   "source": [
    "files"
   ]
  },
  {
   "cell_type": "code",
   "execution_count": null,
   "metadata": {},
   "outputs": [],
   "source": [
    "\n",
    "table='insights_draft'\n",
    "data=db_insights\n",
    "files=glob.glob(os.path.join(path_insights,\"*.csv\"))\n",
    "#conn = connect(param_dic)\n",
    "create_postgres(data,table)\n",
    "upload_csv_to_postgres(table,files)"
   ]
  },
  {
   "cell_type": "code",
   "execution_count": null,
   "metadata": {},
   "outputs": [],
   "source": [
    "files"
   ]
  },
  {
   "attachments": {},
   "cell_type": "markdown",
   "metadata": {},
   "source": [
    "### Please write a SQL script to unpack the json in column post_video_view_time_by_age_bucket_and_gender in a new table, while preserving the other columns."
   ]
  },
  {
   "cell_type": "code",
   "execution_count": null,
   "metadata": {},
   "outputs": [],
   "source": [
    "SELECT \n",
    "   id, \n",
    "   data::json->'name' as name,\n",
    "   data::json->'author' ->> 'last_name' as author\n",
    "FROM books;"
   ]
  },
  {
   "cell_type": "code",
   "execution_count": null,
   "metadata": {},
   "outputs": [],
   "source": [
    "conn = connect(param_dic)\n",
    "\n",
    "sel_column='post_video_view_time_by_age_bucket_and_gender'\n",
    "table='insights_draft'\n",
    "execute_query(conn,'SELECT %s FROM %s'%(sel_column,table))"
   ]
  },
  {
   "cell_type": "code",
   "execution_count": null,
   "metadata": {},
   "outputs": [],
   "source": [
    "execute_query(conn,'SELECT %s FROM %s'%(sel_column,table))"
   ]
  },
  {
   "cell_type": "code",
   "execution_count": null,
   "metadata": {},
   "outputs": [],
   "source": [
    "execute_query(conn, \"SELECT %s  FROM %s, data::jsons->'U.18-24' as U.18-24, data::jsons->'U.25-34' as U.25-34\"%(sel_column,table))"
   ]
  },
  {
   "cell_type": "code",
   "execution_count": null,
   "metadata": {},
   "outputs": [],
   "source": [
    "execute_query(conn,'SELECT %s FROM %s, json_each(%s)'%(sel_column,table,sel_column))"
   ]
  },
  {
   "cell_type": "code",
   "execution_count": null,
   "metadata": {},
   "outputs": [],
   "source": [
    "print(sel_column)\n",
    "conn = connect(param_dic)\n",
    "execute_query(conn, \"SELECT %s json_data -> '%s' %s, FROM %s;\" %(sel_column,sel_column,'foo',table))"
   ]
  },
  {
   "cell_type": "code",
   "execution_count": null,
   "metadata": {},
   "outputs": [],
   "source": [
    "table"
   ]
  },
  {
   "cell_type": "code",
   "execution_count": null,
   "metadata": {},
   "outputs": [],
   "source": [
    "conn = psycopg2.connect(\"host=localhost dbname=postgres user=postgres\")\n",
    "cur = conn.cursor()\n",
    "cur.execute(\"\"\"\n",
    "    SELECT json_data \n",
    "        post_video_view_time_by_age_bucket_and_gender -> \"U.18-24\" as U1\n",
    "    FROM insights_draft;\n",
    "    \"\"\")\n",
    "conn.commit()\n",
    "conn.close()"
   ]
  },
  {
   "cell_type": "code",
   "execution_count": null,
   "metadata": {},
   "outputs": [],
   "source": [
    "conn = psycopg2.connect(\"host=localhost dbname=postgres user=postgres\")\n",
    "cur = conn.cursor()\n",
    "cur.execute(\"\"\"\n",
    "    SELECT (post_video_view_time_by_age_bucket_and_gender) from insights_draft;\n",
    "    \"\"\")\n",
    "conn.commit()\n",
    "conn.close()"
   ]
  },
  {
   "cell_type": "code",
   "execution_count": null,
   "metadata": {},
   "outputs": [],
   "source": [
    "execute_query(conn,'select jsonb_object_keys(%s) from %s;'%(sel_column,table))"
   ]
  },
  {
   "cell_type": "code",
   "execution_count": null,
   "metadata": {},
   "outputs": [],
   "source": [
    "table"
   ]
  },
  {
   "cell_type": "code",
   "execution_count": null,
   "metadata": {},
   "outputs": [],
   "source": [
    "print(sel_column)\n",
    "conn = connect(param_dic)\n",
    "execute_query(conn, \"SELECT %s -> 'U.18-24' AS U1 FROM %s\" %(sel_column,table))\n",
    "\n",
    "#SELECT post_video_view_time_by_age_bucket_and_gender FROM insights_draft;\n",
    "\n",
    "#SELECT post_video_view_time_by_age_bucket_and_gender json_data ->> 'U.18-24' AS U1 FROM insights_draft; "
   ]
  },
  {
   "cell_type": "code",
   "execution_count": null,
   "metadata": {},
   "outputs": [],
   "source": [
    "execute_query(conn,\"select \n",
    "    json_data #> \n",
    "       '{pizzas,1,additionalToppings}'  \n",
    "        as additional_toppings_2nd_pizza\n",
    "from test;\")"
   ]
  },
  {
   "attachments": {},
   "cell_type": "markdown",
   "metadata": {},
   "source": [
    "### Write a script for the sums per post for each gender. Additionally create the sum for age 18-34 of all genders."
   ]
  },
  {
   "cell_type": "code",
   "execution_count": null,
   "metadata": {},
   "outputs": [],
   "source": [
    "# SELECT SUM(Quantity) FROM OrderDetails;\n",
    "# add where statement WHERE Country='Mexico' WHERE Country='Mexico'\n",
    "# SELECT * FROM Products WHERE Price BETWEEN 50 AND 60;"
   ]
  }
 ],
 "metadata": {
  "kernelspec": {
   "display_name": "venvDE",
   "language": "python",
   "name": "python3"
  },
  "language_info": {
   "codemirror_mode": {
    "name": "ipython",
    "version": 3
   },
   "file_extension": ".py",
   "mimetype": "text/x-python",
   "name": "python",
   "nbconvert_exporter": "python",
   "pygments_lexer": "ipython3",
   "version": "3.10.9"
  },
  "orig_nbformat": 4
 },
 "nbformat": 4,
 "nbformat_minor": 2
}
