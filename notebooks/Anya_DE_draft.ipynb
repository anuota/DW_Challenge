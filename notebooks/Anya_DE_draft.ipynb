{
 "cells": [
  {
   "attachments": {},
   "cell_type": "markdown",
   "metadata": {},
   "source": [
    "DeutscheWelle Data Engineering Challenge\n",
    "\n",
    "9.05.2023\n"
   ]
  },
  {
   "attachments": {},
   "cell_type": "markdown",
   "metadata": {},
   "source": [
    "## Connect via Gmail API\n",
    "\n"
   ]
  },
  {
   "cell_type": "code",
   "execution_count": null,
   "metadata": {},
   "outputs": [],
   "source": [
    "## Script that dowloads \n"
   ]
  },
  {
   "cell_type": "code",
   "execution_count": 114,
   "metadata": {},
   "outputs": [],
   "source": [
    "import pandas as pd\n",
    "import psycopg2\n",
    "import os\n",
    "import glob\n",
    "\n"
   ]
  },
  {
   "cell_type": "code",
   "execution_count": 115,
   "metadata": {},
   "outputs": [
    {
     "name": "stdout",
     "output_type": "stream",
     "text": [
      "2022-09-15-23-04-08-EDT-Historical-Report-ENTRFacebook-2022-06-16--2022-09-16.csv\n",
      "2022-09-16-23-04-01-EDT-Historical-Report-ENTRFacebook-2022-06-17--2022-09-17.csv\n",
      "2022-09-17-23-04-42-EDT-Historical-Report-ENTRFacebook-2022-06-18--2022-09-18.csv\n",
      "2022-09-18-23-03-32-EDT-Historical-Report-ENTRFacebook-2022-06-19--2022-09-19.csv\n",
      "2022-09-20-23-03-35-EDT-Historical-Report-ENTRFacebook-2022-06-21--2022-09-21.csv\n",
      "2022-09-21-23-04-26-EDT-Historical-Report-ENTRFacebook-2022-06-22--2022-09-22.csv\n",
      "2022-09-23-23-04-15-EDT-Historical-Report-ENTRFacebook-2022-06-24--2022-09-24.csv\n"
     ]
    }
   ],
   "source": [
    "#Script that corrects daily reports\n",
    "!ls /Users/anya/SCIENCE/DW_Challenge/Junior_DE_Task/daily_reports/\n",
    "\n",
    "daily_repo_filepath= \"/Users/anya/SCIENCE/DW_Challenge/Junior_DE_Task/daily_reports/\"\n",
    "\n",
    "file1='2022-09-15-23-04-08-EDT-Historical-Report-ENTRFacebook-2022-06-16--2022-09-16.csv'\n",
    "files=glob.glob(os.path.join(daily_repo_filepath,\"*.csv\"))\n",
    "##date\n"
   ]
  },
  {
   "cell_type": "code",
   "execution_count": 119,
   "metadata": {},
   "outputs": [
    {
     "data": {
      "text/plain": [
       "['/Users/anya/SCIENCE/DW_Challenge/Junior_DE_Task/daily_reports/2022-09-18-23-03-32-EDT-Historical-Report-ENTRFacebook-2022-06-19--2022-09-19.csv',\n",
       " '/Users/anya/SCIENCE/DW_Challenge/Junior_DE_Task/daily_reports/2022-09-16-23-04-01-EDT-Historical-Report-ENTRFacebook-2022-06-17--2022-09-17.csv',\n",
       " '/Users/anya/SCIENCE/DW_Challenge/Junior_DE_Task/daily_reports/2022-09-21-23-04-26-EDT-Historical-Report-ENTRFacebook-2022-06-22--2022-09-22.csv',\n",
       " '/Users/anya/SCIENCE/DW_Challenge/Junior_DE_Task/daily_reports/2022-09-17-23-04-42-EDT-Historical-Report-ENTRFacebook-2022-06-18--2022-09-18.csv',\n",
       " '/Users/anya/SCIENCE/DW_Challenge/Junior_DE_Task/daily_reports/2022-09-20-23-03-35-EDT-Historical-Report-ENTRFacebook-2022-06-21--2022-09-21.csv',\n",
       " '/Users/anya/SCIENCE/DW_Challenge/Junior_DE_Task/daily_reports/2022-09-15-23-04-08-EDT-Historical-Report-ENTRFacebook-2022-06-16--2022-09-16.csv',\n",
       " '/Users/anya/SCIENCE/DW_Challenge/Junior_DE_Task/daily_reports/2022-09-23-23-04-15-EDT-Historical-Report-ENTRFacebook-2022-06-24--2022-09-24.csv']"
      ]
     },
     "execution_count": 119,
     "metadata": {},
     "output_type": "execute_result"
    }
   ],
   "source": [
    "files"
   ]
  },
  {
   "cell_type": "code",
   "execution_count": 204,
   "metadata": {},
   "outputs": [],
   "source": [
    "data=pd.read_csv(daily_repo_filepath+file1)\n",
    "#put all columns in dataframe in lower case and replace space with underscore, and ? with empty space\n",
    "data.columns=data.columns.str.lower().str.replace(\" \",\"_\").str.replace(\"?\",\"\")\n"
   ]
  },
  {
   "cell_type": "code",
   "execution_count": 226,
   "metadata": {},
   "outputs": [
    {
     "data": {
      "text/plain": [
       "sad                                                                               0\n",
       "angry                                                                             0\n",
       "care                                                                              0\n",
       "video_share_status                                                        crosspost\n",
       "is_video_owner                                                                   No\n",
       "post_views                                                                       14\n",
       "total_views                                                                      14\n",
       "total_views_for_all_crossposts                                                 2671\n",
       "video_length                                                               00:06:25\n",
       "url                               https://www.facebook.com/372341662829366/posts...\n",
       "message                           \"24. lutego musieliśmy podjąć z mężem ważna i ...\n",
       "link                              https://www.facebook.com/onetstylzycia/videos/...\n",
       "Name: 0, dtype: object"
      ]
     },
     "execution_count": 226,
     "metadata": {},
     "output_type": "execute_result"
    }
   ],
   "source": [
    "data.iloc[0,20:32]"
   ]
  },
  {
   "cell_type": "markdown",
   "metadata": {},
   "source": []
  },
  {
   "cell_type": "code",
   "execution_count": 154,
   "metadata": {},
   "outputs": [
    {
     "name": "stdout",
     "output_type": "stream",
     "text": [
      "page_name text,\n",
      "user_name text,\n",
      "facebook_id int,\n",
      "page_category text,\n",
      "page_admin_top_country text,\n",
      "page_description text,\n",
      "page_created text,\n",
      "likes_at_posting int,\n",
      "followers_at_posting int,\n",
      "post_created text,\n",
      "post_created_date text,\n",
      "post_created_time text,\n",
      "type text,\n",
      "total_interactions text,\n",
      "likes int,\n",
      "comments int,\n",
      "shares int,\n",
      "love int,\n",
      "wow int,\n",
      "haha int,\n",
      "sad int,\n",
      "angry int,\n",
      "care int,\n",
      "video_share_status text,\n",
      "is_video_owner? text,\n",
      "post_views int,\n",
      "total_views int,\n",
      "total_views_for_all_crossposts int,\n",
      "video_length text,\n",
      "url text,\n",
      "message text,\n",
      "link text,\n",
      "final_link float,\n",
      "image_text float,\n",
      "link_text text,\n",
      "description float,\n",
      "sponsor_id float,\n",
      "sponsor_name float,\n",
      "sponsor_category float,\n",
      "overperforming_score_ float,\n"
     ]
    }
   ],
   "source": [
    "#data column to create SQL database\n",
    "for column in data.columns.values:\n",
    "    #column.replace(\" \", \"_\").lower()\n",
    "    print(column.replace(\" \", \"_\").lower() + str(type(data[column][0])).replace(\"class\", \"\").replace(\"<\", \"\").replace(\">\", \"\").replace(\"'\", \"\").replace(\"numpy.int64\",\"int\").replace(\"numpy.float64\",\"float\").replace(\"str\",\"VARCHAR\") +',')    \n",
    "\n",
    "#same with list comprehension\n",
    "# types=([ column.replace(\" \", \"_\") + str(type(data[column][0])).replace(\"class\", \"\").replace(\"<\", \"\").replace(\">\", \"\").replace(\"'\", \"\").replace(\"numpy.int64\",\"int\").replace(\"numpy.float64\",\"float\").replace(\"str\",\"VARCHAR\") for column in data.columns.values])"
   ]
  },
  {
   "cell_type": "code",
   "execution_count": 161,
   "metadata": {},
   "outputs": [],
   "source": [
    "columns=[ column.replace(\" \", \"_\").replace(\"?\",\"\").lower() for column in data.columns.values]\n",
    "types=([ column.replace(\" \", \"_\").replace(\"?\",\"\").lower() + str(type(data[column][0])).replace(\"class\", \"\").replace(\"<\", \"\").replace(\">\", \"\").replace(\"'\", \"\").replace(\"numpy.int64\",\"int\").replace(\"numpy.float64\",\"float\").replace(\"str\",\"VARCHAR\") for column in data.columns.values])"
   ]
  },
  {
   "cell_type": "code",
   "execution_count": 314,
   "metadata": {},
   "outputs": [],
   "source": [
    "## Upload data to the postres database\n",
    "#connect database\n",
    "conn = psycopg2.connect(\"host=localhost dbname=postgres user=postgres\")\n",
    "cur = conn.cursor()\n",
    "\n",
    "#create database\n",
    "cur.execute(\"\"\"\n",
    "    CREATE TABLE IF NOT EXISTS reports_test_varchar1(\n",
    "    page_name VARCHAR,\n",
    "    user_name VARCHAR,\n",
    "    facebook_id VARCHAR,\n",
    "    page_category VARCHAR,\n",
    "    page_admin_top_country VARCHAR,\n",
    "    page_description VARCHAR,\n",
    "    page_created VARCHAR,\n",
    "    likes_at_posting VARCHAR,\n",
    "    followers_at_posting VARCHAR,\n",
    "    post_created VARCHAR,\n",
    "    post_created_date VARCHAR,\n",
    "    post_created_time VARCHAR,\n",
    "    type VARCHAR,\n",
    "    total_interactions VARCHAR,\n",
    "    likes VARCHAR,\n",
    "    comments VARCHAR,\n",
    "    shares VARCHAR,\n",
    "    love VARCHAR,\n",
    "    wow VARCHAR,\n",
    "    haha VARCHAR,\n",
    "    sad VARCHAR,\n",
    "    angry VARCHAR,\n",
    "    care VARCHAR,\n",
    "    video_share_status VARCHAR,\n",
    "    is_video_owner VARCHAR,\n",
    "    post_views VARCHAR,\n",
    "    total_views VARCHAR,\n",
    "    total_views_for_all_crossposts VARCHAR,\n",
    "    video_length VARCHAR,\n",
    "    url VARCHAR,\n",
    "    message VARCHAR,\n",
    "    link VARCHAR,\n",
    "    final_link VARCHAR,\n",
    "    image_VARCHAR VARCHAR,\n",
    "    link_VARCHAR VARCHAR,\n",
    "    description VARCHAR,\n",
    "    sponsor_id VARCHAR,\n",
    "    sponsor_name VARCHAR,\n",
    "    sponsor_category VARCHAR,\n",
    "    overperforming_score_ VARCHAR\n",
    ")\n",
    "\"\"\")\n",
    "conn.commit()"
   ]
  },
  {
   "cell_type": "code",
   "execution_count": 315,
   "metadata": {},
   "outputs": [],
   "source": [
    "cur.execute(\"\"\"\n",
    "    COPY reports_test_varchar1 FROM '/Users/anya/SCIENCE/DW_Challenge/Junior_DE_Task/daily_reports/2022-09-18-23-03-32-EDT-Historical-Report-ENTRFacebook-2022-06-19--2022-09-19.csv' WITH DELIMITER ',' CSV;   \n",
    "    \n",
    "\"\"\")\n",
    "conn.commit()"
   ]
  },
  {
   "cell_type": "code",
   "execution_count": null,
   "metadata": {},
   "outputs": [],
   "source": [
    "## Upload data to the postres database\n",
    "#connect database\n",
    "conn = psycopg2.connect(\"host=localhost dbname=postgres user=postgres\")\n",
    "cur = conn.cursor()\n",
    "# cur.execute('SELECT * FROM notes')\n",
    "# one = cur.fetchone()\n",
    "# all = cur.fetchall()\n",
    "\n",
    "#create database\n",
    "cur.execute(\"\"\"\n",
    "    CREATE TABLE reports1(\n",
    "    id integer PRIMARY KEY,\n",
    "    Page_Name text,\n",
    "    User_Name text,\n",
    "    Facebook_Id int,\n",
    "    Page_Category text,\n",
    "    Page_Admin_Top_Country text,\n",
    "    Page_Description text,\n",
    "    Page_Created text,\n",
    "    Likes_at_Posting int,\n",
    "    Followers_at_Posting int,\n",
    "    Post_Created text,\n",
    "    Post_Created_Date text,\n",
    "    Post_Created_Time text,\n",
    "    Type text,\n",
    "    Total_Interactions text,\n",
    "    Likes int,\n",
    "    Comments int,\n",
    "    Shares int,\n",
    "    Love int,\n",
    "    Wow int,\n",
    "    Haha int,\n",
    "    Sad int,\n",
    "    Angry int,\n",
    "    Care int,\n",
    "    Video_Share_Status text,\n",
    "    Is_Video_Owner text,\n",
    "    Post_Views int,\n",
    "    Total_Views int,\n",
    "    Total_Views_For_All_Crossposts int,\n",
    "    Video_Length text,\n",
    "    URL text,\n",
    "    Message text,\n",
    "    Link text,\n",
    "    Final_Link float,\n",
    "    Image_Text float,\n",
    "    Link_Text text,\n",
    "    Description float,\n",
    "    Sponsor_Id float,\n",
    "    Sponsor_Name float,\n",
    "    Sponsor_Category float,\n",
    "    Overperforming_Score_ float\n",
    "\n",
    ")\n",
    "\"\"\")\n",
    "\n",
    "conn.commit()\n"
   ]
  },
  {
   "cell_type": "code",
   "execution_count": 242,
   "metadata": {},
   "outputs": [],
   "source": [
    "import os\n",
    "import psycopg2\n",
    "import numpy as np\n",
    "import psycopg2.extras as extras\n",
    "from io import StringIO\n",
    "\n",
    "\n",
    "def execute_values(conn, df, table):\n",
    "    \"\"\"\n",
    "    Using psycopg2.extras.execute_values() to insert the dataframe\n",
    "    \"\"\"\n",
    "    # Create a list of tupples from the dataframe values\n",
    "    tuples = [tuple(x) for x in df.to_numpy()]\n",
    "    # Comma-separated dataframe columns\n",
    "    cols = ','.join(list(df.columns))\n",
    "    # SQL quert to execute\n",
    "    query  = \"INSERT INTO %s(%s) VALUES %%s\" % (table, cols)\n",
    "    cursor = conn.cursor()\n",
    "    try:\n",
    "        extras.execute_values(cursor, query, tuples)\n",
    "        conn.commit()\n",
    "    except (Exception, psycopg2.DatabaseError) as error:\n",
    "        print(\"Error: %s\" % error)\n",
    "        conn.rollback()\n",
    "        cursor.close()\n",
    "        return 1\n",
    "    print(\"execute_values() done\")\n",
    "    cursor.close()\n",
    "\n",
    "def copy_from_file(conn, df, table):\n",
    "\n",
    "    \"\"\"\n",
    "    Here we are going save the dataframe on disk as \n",
    "    a csv file, load the csv file  \n",
    "    and use copy_from() to copy it to the table\n",
    "    \"\"\"\n",
    "    # Save the dataframe to disk\n",
    "    tmp_df = \"./tmp_dataframe.csv\"\n",
    "    df.to_csv(tmp_df, index_label='id', header=False)\n",
    "    f = open(tmp_df, 'r')\n",
    "    cursor = conn.cursor()\n",
    "    try:\n",
    "        cursor.copy_from(f, table, sep=\",\")\n",
    "        conn.commit()\n",
    "    except (Exception, psycopg2.DatabaseError) as error:\n",
    "        os.remove(tmp_df)\n",
    "        print(\"Error: %s\" % error)\n",
    "        conn.rollback()\n",
    "        cursor.close()\n",
    "        return 1\n",
    "    print(\"copy_from_file() done\")\n",
    "    cursor.close()\n",
    "    os.remove(tmp_df,data,)\n",
    "\n",
    "def copy_from_stringio(conn, df, table):\n",
    "\n",
    "    \"\"\"\n",
    "    Here we are going save the dataframe in memory \n",
    "    and use copy_from() to copy it to the table\n",
    "    \"\"\"\n",
    "    # save dataframe to an in memory buffer\n",
    "    buffer = StringIO()\n",
    "    df.to_csv(buffer, index_label='id', header=False)\n",
    "    buffer.seek(0)\n",
    "    \n",
    "    cursor = conn.cursor()\n",
    "    try:\n",
    "        cursor.copy_from(buffer, table, sep=\",\")\n",
    "        conn.commit()\n",
    "    except (Exception, psycopg2.DatabaseError) as error:\n",
    "        print(\"Error: %s\" % error)\n",
    "        conn.rollback()\n",
    "        cursor.close()\n",
    "        return 1\n",
    "    print(\"copy_from_stringio() done\")\n",
    "    cursor.close()"
   ]
  },
  {
   "cell_type": "code",
   "execution_count": 251,
   "metadata": {},
   "outputs": [
    {
     "data": {
      "text/plain": [
       "Index(['page_name', 'user_name', 'facebook_id', 'page_category',\n",
       "       'page_admin_top_country', 'page_description', 'page_created',\n",
       "       'likes_at_posting', 'followers_at_posting', 'post_created',\n",
       "       'post_created_date', 'post_created_time', 'type', 'total_interactions',\n",
       "       'likes', 'comments', 'shares', 'love', 'wow', 'haha', 'sad', 'angry',\n",
       "       'care', 'video_share_status', 'is_video_owner', 'post_views',\n",
       "       'total_views', 'total_views_for_all_crossposts', 'video_length', 'url',\n",
       "       'message', 'link', 'final_link', 'image_text', 'link_text',\n",
       "       'description', 'sponsor_id', 'sponsor_name', 'sponsor_category',\n",
       "       'overperforming_score_'],\n",
       "      dtype='object')"
      ]
     },
     "execution_count": 251,
     "metadata": {},
     "output_type": "execute_result"
    }
   ],
   "source": [
    "data.columns"
   ]
  },
  {
   "cell_type": "code",
   "execution_count": 265,
   "metadata": {},
   "outputs": [
    {
     "data": {
      "text/plain": [
       "final_link\n",
       "False    7073\n",
       "True        1\n",
       "Name: count, dtype: int64"
      ]
     },
     "execution_count": 265,
     "metadata": {},
     "output_type": "execute_result"
    }
   ],
   "source": [
    "data['final_link'].isin(['https://www.twitch.tv/dwnews_hangout']).value_counts()"
   ]
  },
  {
   "cell_type": "code",
   "execution_count": 282,
   "metadata": {},
   "outputs": [
    {
     "data": {
      "text/plain": [
       "link\n",
       "False    7073\n",
       "True        1\n",
       "Name: count, dtype: int64"
      ]
     },
     "execution_count": 282,
     "metadata": {},
     "output_type": "execute_result"
    }
   ],
   "source": [
    "data['link'].isin([\"https://trib.al/BEXjGHg\"]).value_counts()\n"
   ]
  },
  {
   "cell_type": "code",
   "execution_count": 294,
   "metadata": {},
   "outputs": [
    {
     "data": {
      "text/plain": [
       "message  link   final_link  image_text  link_text\n",
       "False    False  False       False       False        1\n",
       "         True   False       False       False        1\n",
       "Name: count, dtype: int64"
      ]
     },
     "execution_count": 294,
     "metadata": {},
     "output_type": "execute_result"
    }
   ],
   "source": [
    "data.iloc[43:45,30:35].isin([\"https://trib.al/BEXjGHg\"]).value_counts()\n"
   ]
  },
  {
   "cell_type": "code",
   "execution_count": 297,
   "metadata": {},
   "outputs": [
    {
     "data": {
      "text/html": [
       "<div>\n",
       "<style scoped>\n",
       "    .dataframe tbody tr th:only-of-type {\n",
       "        vertical-align: middle;\n",
       "    }\n",
       "\n",
       "    .dataframe tbody tr th {\n",
       "        vertical-align: top;\n",
       "    }\n",
       "\n",
       "    .dataframe thead th {\n",
       "        text-align: right;\n",
       "    }\n",
       "</style>\n",
       "<table border=\"1\" class=\"dataframe\">\n",
       "  <thead>\n",
       "    <tr style=\"text-align: right;\">\n",
       "      <th></th>\n",
       "      <th>message</th>\n",
       "      <th>link</th>\n",
       "      <th>final_link</th>\n",
       "      <th>image_text</th>\n",
       "      <th>link_text</th>\n",
       "    </tr>\n",
       "  </thead>\n",
       "  <tbody>\n",
       "    <tr>\n",
       "      <th>43</th>\n",
       "      <td>Online detectives are sniffing the internet fo...</td>\n",
       "      <td>https://trib.al/BEXjGHg</td>\n",
       "      <td>https://www.twitch.tv/dwnews_hangout</td>\n",
       "      <td>NaN</td>\n",
       "      <td>DWNews_Hangout - Twitch</td>\n",
       "    </tr>\n",
       "    <tr>\n",
       "      <th>44</th>\n",
       "      <td>Die Fassade von Katar glitzert. Aber was ist d...</td>\n",
       "      <td>https://www.facebook.com/zeitonline/videos/798...</td>\n",
       "      <td>NaN</td>\n",
       "      <td>NaN</td>\n",
       "      <td>Geld Macht Katar: Wie leben die Gastarbeiter i...</td>\n",
       "    </tr>\n",
       "  </tbody>\n",
       "</table>\n",
       "</div>"
      ],
      "text/plain": [
       "                                              message   \n",
       "43  Online detectives are sniffing the internet fo...  \\\n",
       "44  Die Fassade von Katar glitzert. Aber was ist d...   \n",
       "\n",
       "                                                 link   \n",
       "43                            https://trib.al/BEXjGHg  \\\n",
       "44  https://www.facebook.com/zeitonline/videos/798...   \n",
       "\n",
       "                              final_link  image_text   \n",
       "43  https://www.twitch.tv/dwnews_hangout         NaN  \\\n",
       "44                                   NaN         NaN   \n",
       "\n",
       "                                            link_text  \n",
       "43                            DWNews_Hangout - Twitch  \n",
       "44  Geld Macht Katar: Wie leben die Gastarbeiter i...  "
      ]
     },
     "execution_count": 297,
     "metadata": {},
     "output_type": "execute_result"
    }
   ],
   "source": [
    "data.iloc[43:45,30:35]"
   ]
  },
  {
   "cell_type": "code",
   "execution_count": 300,
   "metadata": {},
   "outputs": [
    {
     "data": {
      "text/plain": [
       "\"Online detectives are sniffing the internet for every detail on the war in Ukraine — with evident success. How do they do it and what's their motivation? Join us tonight on Twitch with Bellingcat to find out, live from 6pm CET.\""
      ]
     },
     "execution_count": 300,
     "metadata": {},
     "output_type": "execute_result"
    }
   ],
   "source": [
    "data[\"link\"].iloc[43]\n",
    "data[\"message\"].iloc[43]"
   ]
  },
  {
   "cell_type": "code",
   "execution_count": 244,
   "metadata": {},
   "outputs": [
    {
     "name": "stdout",
     "output_type": "stream",
     "text": [
      "Error: invalid input syntax for type double precision: \"https://www.twitch.tv/dwnews_hangout\"\n",
      "LINE 47: ...ut, live from 6pm CET.','https://trib.al/BEXjGHg','https://w...\n",
      "                                                              ^\n",
      "\n"
     ]
    },
    {
     "data": {
      "text/plain": [
       "1"
      ]
     },
     "execution_count": 244,
     "metadata": {},
     "output_type": "execute_result"
    }
   ],
   "source": [
    "conn = psycopg2.connect(\"host=localhost dbname=postgres user=postgres\")\n",
    "\n",
    "#copy_from_file(conn,data,'reports_test1')\n",
    "#copy_from_stringio(conn,data,'reports_test')\n",
    "execute_values(conn,data,'reports_test')\n",
    "\n"
   ]
  },
  {
   "cell_type": "code",
   "execution_count": 186,
   "metadata": {},
   "outputs": [
    {
     "ename": "BadCopyFileFormat",
     "evalue": "extra data after last expected column\nCONTEXT:  COPY reports_test1, line 1: \"Onet Styl Życia,onetstylzycia,372341662829366,NEWS_SITE,PL,Najbardziej stylowy serwis w Polsce!,201...\"\n",
     "output_type": "error",
     "traceback": [
      "\u001b[0;31m---------------------------------------------------------------------------\u001b[0m",
      "\u001b[0;31mBadCopyFileFormat\u001b[0m                         Traceback (most recent call last)",
      "Cell \u001b[0;32mIn[186], line 32\u001b[0m\n\u001b[1;32m     28\u001b[0m \u001b[39mwith\u001b[39;00m \u001b[39mopen\u001b[39m(files[\u001b[39m0\u001b[39m], \u001b[39m'\u001b[39m\u001b[39mr\u001b[39m\u001b[39m'\u001b[39m) \u001b[39mas\u001b[39;00m f:\n\u001b[1;32m     29\u001b[0m     \n\u001b[1;32m     30\u001b[0m     \u001b[39m# Notice that we don't need the csv module.\u001b[39;00m\n\u001b[1;32m     31\u001b[0m     \u001b[39mnext\u001b[39m(f) \u001b[39m# Skip the header row.\u001b[39;00m\n\u001b[0;32m---> 32\u001b[0m     cur\u001b[39m.\u001b[39;49mcopy_from(f, \u001b[39m'\u001b[39;49m\u001b[39mreports_test1\u001b[39;49m\u001b[39m'\u001b[39;49m, sep\u001b[39m=\u001b[39;49m\u001b[39m'\u001b[39;49m\u001b[39m,\u001b[39;49m\u001b[39m'\u001b[39;49m)\n\u001b[1;32m     34\u001b[0m conn\u001b[39m.\u001b[39mcommit()\n",
      "\u001b[0;31mBadCopyFileFormat\u001b[0m: extra data after last expected column\nCONTEXT:  COPY reports_test1, line 1: \"Onet Styl Życia,onetstylzycia,372341662829366,NEWS_SITE,PL,Najbardziej stylowy serwis w Polsce!,201...\"\n"
     ]
    }
   ],
   "source": [
    "##insert data from csv\n",
    "#SQL string:  \n",
    "# INSERT INTO users VALUES (10, \"hello@dataquest.io\", \"Some Name\", \"123 Fake St.\")\n",
    "\n",
    "#psycopg2 command to insert a single line using string interpolation instead of .format()\n",
    "# cur.execute(\"INSERT INTO users VALUES (%s, %s, %s, %s)\", (10, 'hello@dataquest.io', 'Some Name', '123 Fake St.'))\n",
    "# conn.commit()\n",
    "\n",
    "#psycopg2 to insert csv (not efficient because of the loop)\n",
    "# import csv\n",
    "# import psycopg2\n",
    "# conn = psycopg2.connect(\"host=localhost dbname=postgres user=postgres\")\n",
    "# cur = conn.cursor()\n",
    "# with open('user_accounts.csv', 'r') as f:\n",
    "#     reader = csv.reader(f)\n",
    "#     next(reader) # Skip the header row.\n",
    "#     for row in reader:\n",
    "#         cur.execute(\n",
    "#         \"INSERT INTO users VALUES (%s, %s, %s, %s)\",\n",
    "#         row\n",
    "#     )\n",
    "# conn.commit()\n",
    "\n",
    "#psycopg2 command to upload data to Postgre database using efficient COPY command\n",
    "\n",
    "conn = psycopg2.connect(\"host=localhost dbname=postgres user=postgres\")\n",
    "cur = conn.cursor()\n",
    "with open(files[0], 'r') as f:\n",
    "    # Notice that we don't need the csv module.\n",
    "    next(f) # Skip the header row.\n",
    "    cur.copy_from(f, 'reports_test1', sep=',')\n",
    "\n",
    "conn.commit()"
   ]
  },
  {
   "cell_type": "code",
   "execution_count": 227,
   "metadata": {},
   "outputs": [
    {
     "data": {
      "text/plain": [
       "538"
      ]
     },
     "execution_count": 227,
     "metadata": {},
     "output_type": "execute_result"
    }
   ],
   "source": [
    "#create postgres database using csv using sqlalchemy\n",
    "import pandas as pd\n",
    "from sqlalchemy import create_engine\n",
    "import psycopg2\n",
    "\n",
    "df = pd.read_csv(daily_repo_filepath+file1, sep=',')\n",
    "# database = postgres\n",
    "# user = postgres\n",
    "# host = localhost\n",
    "engine = create_engine('postgresql://postgres@localhost/postgres')\n",
    "\n",
    "data.to_sql(\"report_sqlalchemy1\", engine,if_exists='replace',index=False)"
   ]
  },
  {
   "cell_type": "code",
   "execution_count": null,
   "metadata": {},
   "outputs": [],
   "source": [
    "##SQL script to process the data and push the data to GIT\n",
    "## create tables "
   ]
  },
  {
   "cell_type": "code",
   "execution_count": 144,
   "metadata": {},
   "outputs": [],
   "source": [
    "conn = psycopg2.connect(\"dbname=postgres user=postgres\")\n",
    "cur = conn.cursor()\n",
    "cur.execute(\"\"\"CREATE TABLE users(\n",
    "    id integer PRIMARY KEY,\n",
    "    email text,\n",
    "    name text,\n",
    "    address text\n",
    ")\n",
    "\"\"\")\n",
    "conn.commit()\n"
   ]
  },
  {
   "cell_type": "code",
   "execution_count": 145,
   "metadata": {},
   "outputs": [],
   "source": [
    "import psycopg2\n",
    "conn = psycopg2.connect(\"host=localhost dbname=postgres user=postgres\")\n",
    "cur = conn.cursor()\n",
    "cur.execute(\"INSERT INTO users VALUES (%s, %s, %s, %s)\", (10, 'hello@dataquest.io', 'Some Name', '123 Fake St.'))\n",
    "conn.commit()"
   ]
  }
 ],
 "metadata": {
  "kernelspec": {
   "display_name": "venvDE",
   "language": "python",
   "name": "python3"
  },
  "language_info": {
   "codemirror_mode": {
    "name": "ipython",
    "version": 3
   },
   "file_extension": ".py",
   "mimetype": "text/x-python",
   "name": "python",
   "nbconvert_exporter": "python",
   "pygments_lexer": "ipython3",
   "version": "3.10.9"
  },
  "orig_nbformat": 4
 },
 "nbformat": 4,
 "nbformat_minor": 2
}
